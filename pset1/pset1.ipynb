{
 "cells": [
  {
   "cell_type": "markdown",
   "metadata": {},
   "source": [
    "# Problem set 1, Asymmetric loss regression"
   ]
  },
  {
   "cell_type": "markdown",
   "metadata": {},
   "source": [
    "Let's load the data and plot the training / val data."
   ]
  },
  {
   "cell_type": "code",
   "execution_count": 1,
   "metadata": {
    "scrolled": true
   },
   "outputs": [
    {
     "data": {
      "text/plain": [
       "[<matplotlib.lines.Line2D at 0x7fc5c2834410>]"
      ]
     },
     "execution_count": 1,
     "metadata": {},
     "output_type": "execute_result"
    },
    {
     "data": {
      "image/png": "[encoded data removed]",
      "text/plain": [
       "<Figure size 432x288 with 1 Axes>"
      ]
     },
     "metadata": {
      "needs_background": "light"
     },
     "output_type": "display_data"
    }
   ],
   "source": [
    "%matplotlib inline\n",
    "import numpy as np\n",
    "import matplotlib.pyplot as plt\n",
    "\n",
    "\n",
    "# Load data\n",
    "dataTrain=np.loadtxt('housing-train.txt')\n",
    "dataVal=np.loadtxt('housing-val.txt')\n",
    "\n",
    "X_train=(dataTrain[:,np.newaxis,0])\n",
    "y_train=dataTrain[:,1]\n",
    "X_val=dataVal[:,np.newaxis,0]\n",
    "y_val=dataVal[:,1]\n",
    "\n",
    "plt.plot(X_train, y_train, 'k.')\n",
    "plt.plot(X_val, y_val, 'b.')\n"
   ]
  },
  {
   "cell_type": "code",
   "execution_count": null,
   "metadata": {},
   "outputs": [],
   "source": []
  },
  {
   "cell_type": "code",
   "execution_count": 17,
   "metadata": {},
   "outputs": [
    {
     "data": {
      "text/plain": [
       "(304, 1)"
      ]
     },
     "execution_count": 17,
     "metadata": {},
     "output_type": "execute_result"
    }
   ],
   "source": [
    "X_train.shape"
   ]
  },
  {
   "cell_type": "markdown",
   "metadata": {},
   "source": [
    "First, we will solve the linear regression (under the \"normal\" symmetric squared loss) using the closed form solution. Let's define a couple of functions we will need."
   ]
  },
  {
   "cell_type": "code",
   "execution_count": 2,
   "metadata": {},
   "outputs": [],
   "source": [
    "def symmLoss(X, w ,y):\n",
    "    \"\"\"\n",
    "    Get the symmetric squared loss given data X, weight w and ground truth y\n",
    "\n",
    "    Parameters\n",
    "    ----------\n",
    "    X : 2D array\n",
    "        N x d+1 data matrix (row per example)\n",
    "    w : 1D array\n",
    "        d+1 length vector\n",
    "    y : 1D array\n",
    "        Observed function values\n",
    "\n",
    "    Returns\n",
    "    -------\n",
    "    loss : a scalar\n",
    "        The loss calculated by the symmetric loss formula\n",
    "    \"\"\"\n",
    "    loss = 0\n",
    "    for i in range(X.shape[0]):\n",
    "        loss += (y[i] - np.dot(X[i,:],w))**2\n",
    "    loss = loss / X.shape[0]\n",
    "    return   loss"
   ]
  },
  {
   "cell_type": "markdown",
   "metadata": {},
   "source": [
    "Note that the loss we have defined is the normalized squared loss"
   ]
  },
  {
   "cell_type": "code",
   "execution_count": 3,
   "metadata": {},
   "outputs": [],
   "source": [
    "def lsqClosedForm(X, y):\n",
    "    \"\"\"\n",
    "    Use closed form solution for least squares minimization\n",
    "\n",
    "    Parameters\n",
    "    ----------\n",
    "    X : 2D array\n",
    "        N x d+1 data matrix (row per example)\n",
    "    y : 1D array\n",
    "        Observed function values\n",
    "\n",
    "    Returns\n",
    "    -------\n",
    "    w : 1D array\n",
    "        d+1 length vector\n",
    "    \"\"\"\n",
    "    return np.dot(np.linalg.pinv(X), y) # lecture 2"
   ]
  },
  {
   "cell_type": "markdown",
   "metadata": {},
   "source": [
    "Test the closed form solution: generate a toy data set from a random linear function with <b>no noise</b>. We should be able to perfectly recover w in this case (up to numerical precision)."
   ]
  },
  {
   "cell_type": "code",
   "execution_count": 4,
   "metadata": {},
   "outputs": [
    {
     "name": "stdout",
     "output_type": "stream",
     "text": [
      "true weight:  array([0.76585272, 0.54934126])\n",
      "function output: array([0.76585272, 0.54934126])\n",
      "Close enough\n"
     ]
    }
   ],
   "source": [
    "X = np.hstack((np.ones([20,1]),np.random.random((20,1))))\n",
    "w = np.random.random((2))\n",
    "y = np.dot(X,w)\n",
    "print('true weight:  '+repr(w))\n",
    "w_ = lsqClosedForm(X, y)\n",
    "print('function output: '+repr(w_))\n",
    "if (np.allclose(w,w_)):\n",
    "    print('Close enough')\n",
    "else:\n",
    "    print('Uh-oh')"
   ]
  },
  {
   "cell_type": "markdown",
   "metadata": {},
   "source": [
    "The function to estimate the variance of the noise and the log likelihood of the data."
   ]
  },
  {
   "cell_type": "code",
   "execution_count": 5,
   "metadata": {},
   "outputs": [],
   "source": [
    "def logLikelihood(X, w, y):\n",
    "    \"\"\"\n",
    "    Get the estimated variance, and the log likelihood of the data\n",
    "\n",
    "    Parameters\n",
    "    ----------\n",
    "    X : 2D array\n",
    "        N x d+1 design matrix (row per example)\n",
    "    w : 1D array\n",
    "        d+1 length vector\n",
    "    y : 1D array\n",
    "        Observed function values\n",
    "\n",
    "    Returns\n",
    "    -------\n",
    "    simga2 : a scalar\n",
    "        The estimated variance (sigma squared)\n",
    "    loglike : a scalar\n",
    "        The log-likelihood under the Gaussian noise model N(0,sigma2)\n",
    "    \"\"\"\n",
    "    N = X.shape[0]   # number of rows in X\n",
    "    \n",
    "    # now estimate the variance of the Gaussian noise\n",
    "    sigma2 = np.var(y - np.dot(X,w), ddof=1)\n",
    "    \n",
    "    # normalized log-likelihood (mean of per-data point log-likelihood of the model given by w,sigma2)\n",
    "    #loglike = ******************** your code for computing normalized (i.e., average) log-likelihood of the model w on X,y\n",
    "    loglike = -1/(2*N*sigma2)*(np.dot((y-np.dot(X,w)).T,(y-np.dot(X,w)))) - np.log(np.sqrt(sigma2)*np.sqrt(2*np.pi))\n",
    "    return sigma2, loglike"
   ]
  },
  {
   "cell_type": "markdown",
   "metadata": {},
   "source": [
    "Now let's fit linear, quadratic and cubic models to the training data, and plot the fit function. First we need to define the function that will map the original input to an expanded feature vector (including the constant term)."
   ]
  },
  {
   "cell_type": "code",
   "execution_count": 6,
   "metadata": {},
   "outputs": [],
   "source": [
    "def degexpand(X, deg, C=None):\n",
    "    \"\"\"\n",
    "    Prepares data matrix with a column of ones and polynomials of specified\n",
    "    degree.\n",
    "\n",
    "    Parameters\n",
    "    ----------\n",
    "    X : 2D array\n",
    "        n x d data matrix (row per example)\n",
    "    deg : integer\n",
    "        Degree of polynomial\n",
    "    C : 1D array\n",
    "        Scaling weights. If not specifed, weights are calculated to fit each\n",
    "        columns of X in [-1, 1].\n",
    "        Note: It is shown in problem set 1 that this normalization does\n",
    "        not affect linear regression, as long as it is applied\n",
    "        consistently to training *and* test data.\n",
    "\n",
    "    Returns\n",
    "    -------\n",
    "    out_X : 2D array\n",
    "        n x ((deg*d) + 1) data matrix (row per example)\n",
    "        *******Fill the comments assuming d = 1*******\n",
    "        The output is arranged as follows:\n",
    "            - X[:, 0] is all ones \n",
    "            - X[:, 1] is original X[:,0]\n",
    "                .\n",
    "                .\n",
    "                .\n",
    "            - X[:,-2] is original X[:,-2]\n",
    "            - X[:,-1] is original X[:,-1]\n",
    "            since d=1, there is no expansion.\n",
    "    C : 1D array\n",
    "        Scaling weights that were used. Can be used in scaling other data later in the same way.\n",
    "    \"\"\"\n",
    "    \n",
    "    assert X.ndim == 2\n",
    "    n, m = X.shape\n",
    "\n",
    "    # Make polynomials\n",
    "    out_X = (X[..., np.newaxis] ** (1. + np.arange(deg))).reshape(n, -1)\n",
    "\n",
    "    # Add column of ones\n",
    "    out_X = np.concatenate([np.ones((out_X.shape[0], 1)), out_X], axis=1)\n",
    "\n",
    "    if C is None:\n",
    "        C = abs(out_X).max(axis=0)\n",
    "    else:\n",
    "        assert np.shape(C) == (out_X.shape[1],), \"C must match outgoing matrix\"\n",
    "\n",
    "    out_X /= C # divide dimension-wise\n",
    "    return out_X, C\n"
   ]
  },
  {
   "cell_type": "markdown",
   "metadata": {},
   "source": [
    "We can now fit models to the training data."
   ]
  },
  {
   "cell_type": "code",
   "execution_count": 18,
   "metadata": {},
   "outputs": [
    {
     "name": "stdout",
     "output_type": "stream",
     "text": [
      "degree 1:\n",
      "train loss 40.092548\n",
      "val loss 40.234920\n",
      "sigma^2: 40.224867 \n",
      "log-likelihood -3.264536\n",
      "\n",
      "degree 2:\n",
      "train loss 31.626032\n",
      "val loss 31.727872\n",
      "sigma^2: 31.730409 \n",
      "log-likelihood -3.145932\n",
      "\n",
      "degree 3:\n",
      "train loss 30.350771\n",
      "val loss 31.246330\n",
      "sigma^2: 30.450939 \n",
      "log-likelihood -3.125352\n",
      "\n",
      "degree 5:\n",
      "train loss 27.407330\n",
      "val loss 31.274918\n",
      "sigma^2: 27.497783 \n",
      "log-likelihood -3.074346\n",
      "\n"
     ]
    },
    {
     "data": {
      "image/png": "[encoded data removed]",
      "text/plain": [
       "<Figure size 432x288 with 1 Axes>"
      ]
     },
     "metadata": {
      "needs_background": "light"
     },
     "output_type": "display_data"
    }
   ],
   "source": [
    "min_loss = np.Inf\n",
    "plt.plot(X_train, y_train, 'k.')\n",
    "\n",
    "# Try different polynomial degrees (feel free to add additional values to explore)\n",
    "old_val_loss = np.inf\n",
    "best_param=[]\n",
    "for deg in [1,2,3,5]:\n",
    "    # Expand data first; you can check how this function works in utils.py\n",
    "    X, C = degexpand(X_train, deg)\n",
    "    y = y_train\n",
    "    \n",
    "    # Get the result by applying closed-form equation\n",
    "    w = lsqClosedForm(X, y)\n",
    "    \n",
    "    # compute loss on training set\n",
    "    loss = symmLoss(X, w, y)\n",
    "    \n",
    "    # compute loss on val set; note -- use the same scaling matrix C as for training\n",
    "    val_loss = symmLoss(degexpand(X_val, deg, C)[0], w, y_val)\n",
    "    \n",
    "    print('degree %d:' %(deg))\n",
    "    print('train loss %.6f' %(loss))\n",
    "    print('val loss %.6f' %(val_loss))\n",
    "    print('sigma^2: %.6f \\nlog-likelihood %.6f\\n' %logLikelihood(X, w, y))\n",
    "    \n",
    "    if old_val_loss > val_loss:\n",
    "        best_param=[]\n",
    "        best_param.append(w)\n",
    "        best_param.append(deg)\n",
    "        best_param.append(C)\n",
    "        old_val_loss = val_loss\n",
    "   \n",
    "    # write the code above so that best_param[0] = w of the best model, \n",
    "    #                              best_param[1]=deg of the best model, \n",
    "    #                              best_param[2]=C (scaling matrix) of the best model\n",
    "    \n",
    "    # Plot the function\n",
    "    color = {1:'b', 2:'g', 3:'r', 5:'c'}[deg]\n",
    "    plt.plot(np.linspace(min(X_train)-.1,max(X_train)+.1), np.dot(degexpand(np.linspace(min(X_train)-.1,max(X_train)+.1).reshape((50, 1)), deg, C)[0], w), color,label='deg'+str(deg))\n",
    "\n",
    "\n",
    "                             \n",
    "    \n",
    "axes = plt.gca()\n",
    "axes.set_xlim([0,40])\n",
    "axes.set_ylim([0,55])\n",
    "plt.legend(bbox_to_anchor=(1.05, 1), loc=2, borderaxespad=0.)\n",
    "plt.show()\n",
    "plt.close()"
   ]
  },
  {
   "cell_type": "code",
   "execution_count": 19,
   "metadata": {},
   "outputs": [
    {
     "name": "stdout",
     "output_type": "stream",
     "text": [
      "Best degree:3, loss (sym) on val:\n",
      "31.2463301688878\n"
     ]
    }
   ],
   "source": [
    "# Announce result of best selected model on validation data\n",
    "\n",
    "dataTest=np.loadtxt('housing-val.txt')\n",
    "print(\"Best degree:\"+repr(best_param[1])+\", loss (sym) on val:\")\n",
    "print(symmLoss(degexpand(X_val, best_param[1], best_param[2])[0], best_param[0], y_val))"
   ]
  },
  {
   "cell_type": "markdown",
   "metadata": {},
   "source": [
    "Question 7:\n",
    "\n",
    "Here two of the value can be a good indicator, one is the loss of validation dataset, the other is the log-likelihood of the data. Given that there are not much differences between degree (2,3,5), and degree three has lower loss but degree 5 have a higher likelihood. I think pick either degree 3 or degree 5 is valid. However, given that not much differences between degree 3 and degree 5, I pick the model with less degree/degree-3(lower model complexity) as the best model\n",
    "\n",
    "Now we want to repeat the experiment above but under the asymmetric loss function. Since there is no closed form solution, we will need to rely on gradient descent. First we need to implement the loss function, including the option of calculating the gradient of loss with respect to model parameters"
   ]
  },
  {
   "cell_type": "code",
   "execution_count": 25,
   "metadata": {},
   "outputs": [],
   "source": [
    "def asymmLoss(X, w, y,alpha,_grad=False):\n",
    "    \"\"\"\n",
    "    Get the asymmetric loss given data X, weight w and ground truth y\n",
    "\n",
    "    Parameters\n",
    "    ----------\n",
    "    X : 2D array\n",
    "        N x d+1 design matrix (row per example)\n",
    "    w : 1D array\n",
    "        d+1 length vector\n",
    "    y : 1D array\n",
    "        Observed function values\n",
    "    alpha : scalar\n",
    "        indicating multiplicative factor on underprediction loss (when prediction is lower than ground truth)\n",
    "    _grad : boolean\n",
    "        if True, compute and return gradient of the loss w.r.t. w on the data\n",
    "\n",
    "    Returns\n",
    "    -------\n",
    "    loss : a scalar\n",
    "        The loss calculated by equation in problem set 1\n",
    "    grad : 1D array  (only when _grad == True)\n",
    "        vector of same dimension as w, containing the gradient of loss w.r.t. w\n",
    "    \"\"\"\n",
    "    \n",
    "    grad_temp = []\n",
    "    for i in range(w.shape[0]):\n",
    "        grad_temp.append([])\n",
    "    \n",
    "    loss = 0\n",
    "    alpha_1 = 2/(alpha+1)\n",
    "    alpha_2 = 2-alpha_1\n",
    "    \n",
    "    for i in range(X.shape[0]):\n",
    "        if y[i] >= np.dot(X[i,:],w):\n",
    "            loss += alpha_1*(y[i] - np.dot(X[i,:],w))**2\n",
    "            for j in range(len(grad_temp)):\n",
    "                grad_temp[j].append(2*alpha_1*(-y[i] + np.dot(X[i,:],w))*X[i,j])\n",
    "        else:\n",
    "            loss += alpha_2*(y[i] - np.dot(X[i,:],w))**2\n",
    "            for j in range(len(grad_temp)):\n",
    "                grad_temp[j].append(2*alpha_2*(-y[i] + np.dot(X[i,:],w))*X[i,j])\n",
    "    \n",
    "    loss = loss / X.shape[0]\n",
    "\n",
    "    if _grad:\n",
    "        grad = np.zeros(w.shape[0])\n",
    "        #print(grad_temp)\n",
    "        for i in range(grad.shape[0]):\n",
    "            grad[i] = np.average(grad_temp[i])\n",
    "        return loss, grad\n",
    "    else:\n",
    "        return loss\n",
    "    "
   ]
  },
  {
   "cell_type": "markdown",
   "metadata": {},
   "source": [
    "Question 8:\n",
    "\n",
    "For asymmetric loss, alpha value is how many times overestimating is penalized against underestimating. The loss for overestimating the same magnitude of price as underestimating it is 5 times of (4 times larger than) the loss of underestimating it. A constant is multiplied in front of the loss function for both overestimating and underestimation respectively and there ratio is alpha:1. And the sum of the two constants is 2 in order to make the loss at the same magnitude of the symmetric loss. Therefore if alpha=1, as the loss for overestimating and underestimating is the same, the asymmetric loss and symmetric loss would be identical."
   ]
  },
  {
   "cell_type": "markdown",
   "metadata": {},
   "source": [
    "Advice: It might beneficial to test the loss and gradient function using cooked up X, w, y, alpha"
   ]
  },
  {
   "cell_type": "markdown",
   "metadata": {},
   "source": [
    "Since we have had the functions to calculate loss and gradient, we can implement the gradient descent algorithm."
   ]
  },
  {
   "cell_type": "code",
   "execution_count": 28,
   "metadata": {},
   "outputs": [],
   "source": [
    "def gradDescent(X, y,alpha,tol=1e-4,maxIt=10000,checkit=1000,verbose=2,lr=0.1):\n",
    "    \"\"\"\n",
    "    Use gradient descent to min(loss(X, w, y))\n",
    "\n",
    "    Parameters\n",
    "    ----------\n",
    "    X : 2D array\n",
    "        N x d+1 design matrix (row per example)\n",
    "    y : 1D array\n",
    "        Observed function values\n",
    "    alpha : scalar\n",
    "        weight on positive errors in asymmetric loss\n",
    "    tol : scalar\n",
    "        tolerance on loss decrease (default 1e-4)\n",
    "    maxIt : scalar\n",
    "        max allowed number of iterations (default 10000)\n",
    "    checkit : scalar\n",
    "        # of iterations after which the progress is checked for convergence\n",
    "    verbose : scalar\n",
    "        0  -- no progress report; 1 -- every checkit*10; 2 -- every checkit (default 2)\n",
    "    lr : scalar\n",
    "        learning rate (default 0.1)\n",
    "\n",
    "    Returns\n",
    "    -------\n",
    "    w : 1D array\n",
    "        d+1 length vector\n",
    "        \n",
    "    it: number of iterations until convergence\n",
    "    \"\"\"\n",
    "    # Random initialize the weight\n",
    "    w = np.random.randn(X.shape[1])\n",
    "    it = 0\n",
    "    lastloss = np.Inf\n",
    "    while True:\n",
    "        it += 1 # advance iteration count\n",
    "        loss, grad = asymmLoss(X, w, y,alpha,_grad=True) # evaluate loss and compute gradient\n",
    "        \n",
    "        if it % checkit == 0:\n",
    "            converged = it >= maxIt or loss > lastloss-tol\n",
    "            lastloss = loss\n",
    "            if verbose==2 or verbose==1 and it % (10*checkit) == 0:\n",
    "                print('iter %d:  loss %.4f' %(it,loss))\n",
    "            if converged:\n",
    "                break\n",
    "            \n",
    "        w = w - lr*grad # update w (only if continuing updates)\n",
    "       \n",
    "        \n",
    "    return w, it"
   ]
  },
  {
   "cell_type": "markdown",
   "metadata": {},
   "source": [
    "Test gradient descent using any alpha and data generated by (random) noiseless linear model; we should recover the true w accurately (although possibly with less accuracy than the closed form solution for alpha=1)"
   ]
  },
  {
   "cell_type": "code",
   "execution_count": 29,
   "metadata": {},
   "outputs": [
    {
     "name": "stdout",
     "output_type": "stream",
     "text": [
      "true weight:array([0.82620451, 0.59941009])\n",
      "iter 1000:  loss 0.0000\n",
      "iter 2000:  loss 0.0000\n",
      "iter 3000:  loss 0.0000\n",
      "3000 iterations\n",
      "function output:array([0.82620342, 0.59941151])\n"
     ]
    }
   ],
   "source": [
    "X = np.hstack((np.ones([20,1]),np.random.random((20,1))))\n",
    "w = np.random.random((2))\n",
    "y = np.dot(X,w)\n",
    "print('true weight:'+repr(w))\n",
    "w_, it_ = gradDescent(X, y,10,maxIt=10000,tol=1e-6)\n",
    "print('%d iterations' %it_)\n",
    "print('function output:'+repr(w_))"
   ]
  },
  {
   "cell_type": "markdown",
   "metadata": {},
   "source": [
    "Now we can start testing the preformance of models using aymmetric loss."
   ]
  },
  {
   "cell_type": "code",
   "execution_count": 36,
   "metadata": {
    "scrolled": true
   },
   "outputs": [
    {
     "name": "stderr",
     "output_type": "stream",
     "text": [
      "/home/chingyuenliu/miniconda3/lib/python3.7/site-packages/ipykernel_launcher.py:40: RuntimeWarning: overflow encountered in double_scalars\n",
      "/home/chingyuenliu/miniconda3/lib/python3.7/site-packages/ipykernel_launcher.py:36: RuntimeWarning: overflow encountered in double_scalars\n",
      "/home/chingyuenliu/miniconda3/lib/python3.7/site-packages/numpy/core/_methods.py:151: RuntimeWarning: overflow encountered in reduce\n",
      "  ret = umr_sum(arr, axis, dtype, out, keepdims)\n",
      "/home/chingyuenliu/miniconda3/lib/python3.7/site-packages/ipykernel_launcher.py:47: RuntimeWarning: invalid value encountered in subtract\n"
     ]
    },
    {
     "name": "stdout",
     "output_type": "stream",
     "text": [
      "iter 10000:  loss nan\n",
      "iter 20000:  loss nan\n",
      "iter 30000:  loss nan\n",
      "iter 40000:  loss nan\n",
      "iter 50000:  loss nan\n",
      "degree 1:\n",
      "train loss nan\n",
      "val loss nan\n",
      "learning rate 10.000000\n",
      "\n",
      "iter 10000:  loss 19.7616\n",
      "iter 20000:  loss 19.7616\n",
      "degree 1:\n",
      "train loss 19.761600\n",
      "val loss 19.839117\n",
      "learning rate 1.000000\n",
      "\n",
      "iter 10000:  loss 19.7616\n",
      "iter 20000:  loss 19.7616\n",
      "degree 1:\n",
      "train loss 19.761600\n",
      "val loss 19.839117\n",
      "learning rate 0.100000\n",
      "\n",
      "iter 10000:  loss 19.7672\n",
      "iter 20000:  loss 19.7616\n",
      "iter 30000:  loss 19.7616\n",
      "degree 1:\n",
      "train loss 19.761600\n",
      "val loss 19.839147\n",
      "learning rate 0.010000\n",
      "\n",
      "iter 10000:  loss 35.6337\n",
      "iter 20000:  loss 25.6601\n",
      "iter 30000:  loss 21.9568\n",
      "iter 40000:  loss 20.6185\n",
      "iter 50000:  loss 20.1106\n",
      "degree 1:\n",
      "train loss 20.110617\n",
      "val loss 20.720907\n",
      "learning rate 0.001000\n",
      "\n"
     ]
    },
    {
     "name": "stderr",
     "output_type": "stream",
     "text": [
      "/home/chingyuenliu/miniconda3/lib/python3.7/site-packages/ipykernel_launcher.py:40: RuntimeWarning: overflow encountered in double_scalars\n",
      "/home/chingyuenliu/miniconda3/lib/python3.7/site-packages/ipykernel_launcher.py:36: RuntimeWarning: overflow encountered in double_scalars\n",
      "/home/chingyuenliu/miniconda3/lib/python3.7/site-packages/numpy/core/_methods.py:151: RuntimeWarning: overflow encountered in reduce\n",
      "  ret = umr_sum(arr, axis, dtype, out, keepdims)\n",
      "/home/chingyuenliu/miniconda3/lib/python3.7/site-packages/ipykernel_launcher.py:47: RuntimeWarning: invalid value encountered in subtract\n"
     ]
    },
    {
     "name": "stdout",
     "output_type": "stream",
     "text": [
      "iter 10000:  loss nan\n",
      "iter 20000:  loss nan\n",
      "iter 30000:  loss nan\n",
      "iter 40000:  loss nan\n",
      "iter 50000:  loss nan\n",
      "degree 2:\n",
      "train loss nan\n",
      "val loss nan\n",
      "learning rate 10.000000\n",
      "\n",
      "iter 10000:  loss 16.8925\n",
      "iter 20000:  loss 16.8925\n",
      "degree 2:\n",
      "train loss 16.892528\n",
      "val loss 17.040855\n",
      "learning rate 1.000000\n",
      "\n",
      "iter 10000:  loss 17.2133\n",
      "iter 20000:  loss 16.9101\n",
      "iter 30000:  loss 16.8935\n",
      "iter 40000:  loss 16.8926\n",
      "iter 50000:  loss 16.8925\n",
      "degree 2:\n",
      "train loss 16.892531\n",
      "val loss 17.041043\n",
      "learning rate 0.100000\n",
      "\n",
      "iter 10000:  loss 20.8944\n",
      "iter 20000:  loss 19.9394\n",
      "iter 30000:  loss 19.2027\n",
      "iter 40000:  loss 18.6390\n",
      "iter 50000:  loss 18.2092\n",
      "degree 2:\n",
      "train loss 18.209215\n",
      "val loss 18.487657\n",
      "learning rate 0.010000\n",
      "\n",
      "iter 10000:  loss 30.8833\n",
      "iter 20000:  loss 23.7961\n",
      "iter 30000:  loss 22.2910\n",
      "iter 40000:  loss 21.8517\n",
      "iter 50000:  loss 21.6447\n",
      "degree 2:\n",
      "train loss 21.644748\n",
      "val loss 22.069386\n",
      "learning rate 0.001000\n",
      "\n"
     ]
    },
    {
     "name": "stderr",
     "output_type": "stream",
     "text": [
      "/home/chingyuenliu/miniconda3/lib/python3.7/site-packages/ipykernel_launcher.py:40: RuntimeWarning: overflow encountered in double_scalars\n",
      "/home/chingyuenliu/miniconda3/lib/python3.7/site-packages/ipykernel_launcher.py:36: RuntimeWarning: overflow encountered in double_scalars\n",
      "/home/chingyuenliu/miniconda3/lib/python3.7/site-packages/numpy/core/_methods.py:151: RuntimeWarning: overflow encountered in reduce\n",
      "  ret = umr_sum(arr, axis, dtype, out, keepdims)\n",
      "/home/chingyuenliu/miniconda3/lib/python3.7/site-packages/ipykernel_launcher.py:47: RuntimeWarning: invalid value encountered in subtract\n"
     ]
    },
    {
     "name": "stdout",
     "output_type": "stream",
     "text": [
      "iter 10000:  loss nan\n",
      "iter 20000:  loss nan\n",
      "iter 30000:  loss nan\n",
      "iter 40000:  loss nan\n",
      "iter 50000:  loss nan\n",
      "degree 3:\n",
      "train loss nan\n",
      "val loss nan\n",
      "learning rate 10.000000\n",
      "\n",
      "iter 10000:  loss 16.8429\n",
      "iter 20000:  loss 16.6284\n",
      "iter 30000:  loss 16.5310\n",
      "iter 40000:  loss 16.4870\n",
      "iter 50000:  loss 16.4678\n",
      "degree 3:\n",
      "train loss 16.467755\n",
      "val loss 17.026940\n",
      "learning rate 1.000000\n",
      "\n",
      "iter 10000:  loss 17.2489\n",
      "iter 20000:  loss 17.1833\n",
      "iter 30000:  loss 17.1277\n",
      "iter 40000:  loss 17.0763\n",
      "iter 50000:  loss 17.0288\n",
      "degree 3:\n",
      "train loss 17.028841\n",
      "val loss 17.111084\n",
      "learning rate 0.100000\n",
      "\n",
      "iter 10000:  loss 20.5280\n",
      "iter 20000:  loss 18.8738\n",
      "iter 30000:  loss 18.0519\n",
      "iter 40000:  loss 17.6484\n",
      "iter 50000:  loss 17.4531\n",
      "degree 3:\n",
      "train loss 17.453066\n",
      "val loss 17.547335\n",
      "learning rate 0.010000\n",
      "\n",
      "iter 10000:  loss 28.6973\n",
      "iter 20000:  loss 23.8667\n",
      "iter 30000:  loss 22.8251\n",
      "iter 40000:  loss 22.3455\n",
      "iter 50000:  loss 21.9857\n",
      "degree 3:\n",
      "train loss 21.985665\n",
      "val loss 22.481409\n",
      "learning rate 0.001000\n",
      "\n"
     ]
    },
    {
     "name": "stderr",
     "output_type": "stream",
     "text": [
      "/home/chingyuenliu/miniconda3/lib/python3.7/site-packages/ipykernel_launcher.py:40: RuntimeWarning: overflow encountered in double_scalars\n",
      "/home/chingyuenliu/miniconda3/lib/python3.7/site-packages/ipykernel_launcher.py:36: RuntimeWarning: overflow encountered in double_scalars\n",
      "/home/chingyuenliu/miniconda3/lib/python3.7/site-packages/numpy/core/_methods.py:151: RuntimeWarning: overflow encountered in reduce\n",
      "  ret = umr_sum(arr, axis, dtype, out, keepdims)\n",
      "/home/chingyuenliu/miniconda3/lib/python3.7/site-packages/ipykernel_launcher.py:47: RuntimeWarning: invalid value encountered in subtract\n"
     ]
    },
    {
     "name": "stdout",
     "output_type": "stream",
     "text": [
      "iter 10000:  loss nan\n",
      "iter 20000:  loss nan\n",
      "iter 30000:  loss nan\n",
      "iter 40000:  loss nan\n",
      "iter 50000:  loss nan\n",
      "degree 5:\n",
      "train loss nan\n",
      "val loss nan\n",
      "learning rate 10.000000\n",
      "\n",
      "iter 10000:  loss 16.8028\n",
      "iter 20000:  loss 16.6307\n",
      "iter 30000:  loss 16.4811\n",
      "iter 40000:  loss 16.3485\n",
      "iter 50000:  loss 16.2312\n",
      "degree 5:\n",
      "train loss 16.231163\n",
      "val loss 16.965767\n",
      "learning rate 1.000000\n",
      "\n",
      "iter 10000:  loss 17.5063\n",
      "iter 20000:  loss 17.2304\n",
      "iter 30000:  loss 17.0856\n",
      "iter 40000:  loss 16.9955\n",
      "iter 50000:  loss 16.9364\n",
      "degree 5:\n",
      "train loss 16.936415\n",
      "val loss 17.064595\n",
      "learning rate 0.100000\n",
      "\n",
      "iter 10000:  loss 19.7994\n",
      "iter 20000:  loss 18.2346\n",
      "iter 30000:  loss 17.9291\n",
      "iter 40000:  loss 17.8367\n",
      "iter 50000:  loss 17.7702\n",
      "degree 5:\n",
      "train loss 17.770195\n",
      "val loss 17.731840\n",
      "learning rate 0.010000\n",
      "\n",
      "iter 10000:  loss 29.4867\n",
      "iter 20000:  loss 25.1903\n",
      "iter 30000:  loss 23.7940\n",
      "iter 40000:  loss 22.8609\n",
      "iter 50000:  loss 22.1020\n",
      "degree 5:\n",
      "train loss 22.101986\n",
      "val loss 22.772761\n",
      "learning rate 0.001000\n",
      "\n"
     ]
    },
    {
     "data": {
      "image/png": "[encoded data removed]",
      "text/plain": [
       "<Figure size 432x288 with 1 Axes>"
      ]
     },
     "metadata": {
      "needs_background": "light"
     },
     "output_type": "display_data"
    }
   ],
   "source": [
    "min_loss = np.Inf\n",
    "\n",
    "plt.plot(X_train, y_train, '.')\n",
    "\n",
    "old_val_loss = np.inf\n",
    "best_param_asym=[]\n",
    "for deg in[1,2,3,5]:\n",
    "    # Expand data first\n",
    "    X, C = degexpand(X_train, deg)\n",
    "    y = y_train\n",
    "        \n",
    "    # Run gradient descent\n",
    "    alpha=5\n",
    "    for lr in [10,1,0.1,0.01,0.001]:\n",
    "        w, _ = gradDescent(X, y,alpha,maxIt=50000,checkit=10000,verbose=2,lr=lr)\n",
    "        loss = asymmLoss(X, w, y,alpha)\n",
    "        val_loss = asymmLoss(degexpand(X_val, deg, C)[0], w, y_val,alpha)\n",
    "\n",
    "        print('degree %d:' %(deg))\n",
    "        print('train loss %.6f' %(loss))\n",
    "        print('val loss %.6f' %(val_loss))\n",
    "        print('learning rate %.6f\\n' %(lr))\n",
    "        \n",
    "        #code for selecting best model\n",
    "        # your code should store best_param_asym in the same format as for the symmetric loss experiments above\n",
    "        if old_val_loss > val_loss:\n",
    "            best_param_asym=[]\n",
    "            best_param_asym.append(w)\n",
    "            best_param_asym.append(deg)\n",
    "            best_param_asym.append(C)\n",
    "            old_val_loss = val_loss    \n",
    "        # Plot the function\n",
    "        color = {1:'b', 2:'g', 3:'r', 5:'c'}[deg]\n",
    "        plt.plot(np.linspace(min(X_train)-.1,max(X_train)+.1), np.dot(degexpand(np.linspace(min(X_train)-.1,max(X_train)+.1).reshape((50, 1)), deg, C)[0], w), color,label='deg'+str(deg))\n",
    "\n",
    "axes = plt.gca()\n",
    "axes.set_xlim([0,40])\n",
    "axes.set_ylim([0,55])\n",
    "plt.legend(bbox_to_anchor=(1.05, 1), loc=2, borderaxespad=0.)\n",
    "plt.show()\n",
    "plt.close()"
   ]
  },
  {
   "cell_type": "code",
   "execution_count": 37,
   "metadata": {},
   "outputs": [
    {
     "name": "stdout",
     "output_type": "stream",
     "text": [
      "Best degree:5, loss (asym) on val:\n",
      "16.96576660646108\n"
     ]
    }
   ],
   "source": [
    "# Announce result on validation data\n",
    "\n",
    "dataTest=np.loadtxt('housing-val.txt')\n",
    "print(\"Best degree:\"+repr(best_param_asym[1])+\", loss (asym) on val:\")\n",
    "print(asymmLoss(degexpand(X_val, best_param_asym[1], best_param_asym[2])[0], best_param_asym[0], y_val,alpha))"
   ]
  },
  {
   "cell_type": "markdown",
   "metadata": {},
   "source": [
    "Question 9:\n",
    "Degree 5 model is what I picked. \n",
    "\n",
    "For all four degrees, learning rate of 10 would cause the algorithm to explode and overshoot at gradient descent and is not working. \n",
    "\n",
    "For degree 1, learning rate of 1, 0.1, 0.01 gives out same validation loss result but learning rate with 0.01 reaches to the final model slower. Learning rate of 0.001 is giving worse result than previous four learning rate, indicating either stuck in local minimum or the stop criterion stoped the algorithm from continue training. \n",
    "\n",
    "For degree 2, model trained with learning rate of 1 and 0.1 have the least validation loss of 17.4 which is better than all the model of degree 1 feature. Between the learning rate, learning rate of 1 finished training in 20000 steps and learning rate of 0.1 finished training in 50000 steps. For learning rate of 0.01 and 0.001, from the training loss log, clearly two models did not finished training.\n",
    "\n",
    "For degree 3, the training process for all the learning rate did not reach to the point where where the loss stopped decreasing before running out of training steps. Among all the learning rate, the model trained by learning rate=1 gives out the least validation loss of 17.02. However, there is an gap of 0.6 between training loss and validation loss of this model indicating maybe this loss is around the best of it. \n",
    "\n",
    "For degree 5, similar to what happened to degree 3, where every models stopped training before the loss is stablized. Among all the learning rate, learning rate =1 gives the least validation loss of 16.97. However, there is also a 0.7 gap between training loss and validation loss. \n",
    "\n",
    "\n",
    "From all the summaries above, it is clear that choosing learning rate does affect the output. choosing the learning rate too small would result longer training period. Choosing the learning rate to big will not work for gradient descent. Among all the models I choosed the model with the least validation loss (degree 5, learning 1). There might be an argument where it \"overfit\" the data since there is a 0.7 loss difference between training loss and validation loss. However, given that it is not huge, this model does produce the result with a lower validation loss, thus, degree 5 is model I pick."
   ]
  },
  {
   "cell_type": "code",
   "execution_count": 38,
   "metadata": {},
   "outputs": [
    {
     "name": "stdout",
     "output_type": "stream",
     "text": [
      "Best degree (sym):3\n",
      "Asym loss: 21.2273\n",
      "Sym loss: 22.1586\n",
      "Log-likelihood (symmetric): -2.9681\n",
      "\n",
      "Best degree (asym):5\n",
      "Asym loss: 14.5151\n",
      "Sym loss: 31.3972\n",
      "Log-likelihood (symmetric): -3.1601\n",
      "\n",
      "Best degree (asym):5\n",
      "Asym loss: 8.4858\n",
      "Sym loss: 31.3972\n",
      "Log-likelihood (symmetric): -3.1601\n",
      "\n"
     ]
    }
   ],
   "source": [
    "# Now measure results on test with asymmetric loss, for both models (one learned with sym loss and one learned with asym loss)\n",
    "\n",
    "dataTest=np.loadtxt('housing-test.txt')\n",
    "X_test=(dataTest[:,np.newaxis,0])\n",
    "y_test=dataTest[:,1]\n",
    "\n",
    "print(\"Best degree (sym):\"+repr(best_param[1]))\n",
    "print('Asym loss: %.4f' %asymmLoss(degexpand(X_test, best_param[1], best_param[2])[0], best_param[0], y_test,alpha))\n",
    "print('Sym loss: %.4f' %symmLoss(degexpand(X_test, best_param[1], best_param[2])[0], best_param[0], y_test))\n",
    "print('Log-likelihood (symmetric): %.4f\\n' %logLikelihood(degexpand(X_test, best_param[1], best_param[2])[0], best_param[0], y_test)[1])\n",
    "\n",
    "alpha = 5 #your alpha when over-estimating is 5 times worse \n",
    "\n",
    "print(\"Best degree (asym):\"+repr(best_param_asym[1]))\n",
    "print('Asym loss: %.4f' %asymmLoss(degexpand(X_test, best_param_asym[1], best_param_asym[2])[0], best_param_asym[0], y_test,alpha))\n",
    "print('Sym loss: %.4f' %symmLoss(degexpand(X_test, best_param_asym[1], best_param_asym[2])[0], best_param_asym[0], y_test))\n",
    "print('Log-likelihood (symmetric): %.4f\\n' %logLikelihood(degexpand(X_test, best_param_asym[1], best_param_asym[2])[0], best_param_asym[0], y_test)[1])\n",
    "\n",
    "alpha = 20 #your alpha when over-estimating is 20 times worse\n",
    "\n",
    "print(\"Best degree (asym):\"+repr(best_param_asym[1]))\n",
    "print('Asym loss: %.4f' %asymmLoss(degexpand(X_test, best_param_asym[1], best_param_asym[2])[0], best_param_asym[0], y_test,alpha))\n",
    "print('Sym loss: %.4f' %symmLoss(degexpand(X_test, best_param_asym[1], best_param_asym[2])[0], best_param_asym[0], y_test))\n",
    "print('Log-likelihood (symmetric): %.4f\\n' %logLikelihood(degexpand(X_test, best_param_asym[1], best_param_asym[2])[0], best_param_asym[0], y_test)[1])\n",
    "\n"
   ]
  },
  {
   "cell_type": "markdown",
   "metadata": {},
   "source": [
    "Question 10:\n",
    "\n",
    "It is not very meaningful to compare between Symmetric loss and Asymmetric loss under the same model since two loss function are under different construction. For symmetric loss, the best model trained under symmetric loss (degree=3) has lower symmetric loss and higher likelihood than the best model trained under asymmetric loss(degree=5). On the contrary, the best model trained under asymmetric loss (degree=5) has a lower asymmetric loss than the best model trained under symmetric loss(degree=3). This condition suggests the model works better under the condition they were trained on. As the alpha value increases (overestimating is increasingly worse), the asymmetric loss decreased for the model trined under asymmetric loss, suggest the model really focused on not overestimate the housing price. \n",
    "\n",
    "I think the model trained under symmetric loss would be useful for predicting average prices/true prices of the house. The model trained under asymmetric loss for penalizing overestimating the price can be used to predict the base price/lower end of the price of the house.\n",
    "\n",
    "The model to choose really depends on the problems/tasks. I would choose the degree three model if no additional information is provided for what is the objective of this model is going to used for as it works a fundamental price predicting model without any other assumptions on top of it."
   ]
  },
  {
   "cell_type": "markdown",
   "metadata": {},
   "source": [
    "We are done with the experiments. Here you should write clearly and succinctly what your conclusions are: what model is better? Why? In what sense? See problem set for more instructions."
   ]
  }
 ],
 "metadata": {
  "anaconda-cloud": {},
  "kernelspec": {
   "display_name": "Python 3",
   "language": "python",
   "name": "python3"
  },
  "language_info": {
   "codemirror_mode": {
    "name": "ipython",
    "version": 3
   },
   "file_extension": ".py",
   "mimetype": "text/x-python",
   "name": "python",
   "nbconvert_exporter": "python",
   "pygments_lexer": "ipython3",
   "version": "3.7.6"
  }
 },
 "nbformat": 4,
 "nbformat_minor": 1
}
