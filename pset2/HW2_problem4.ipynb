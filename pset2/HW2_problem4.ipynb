{
 "cells": [
  {
   "cell_type": "code",
   "execution_count": 2,
   "metadata": {},
   "outputs": [],
   "source": [
    "import csv\n",
    "import matplotlib as mpl\n",
    "import matplotlib.pyplot as plt\n",
    "import numpy as np\n",
    "import os\n",
    "import random\n",
    "import struct\n",
    "\n",
    "\n",
    "# some utilities\n",
    "\n",
    "def create_submission_file(fname, preds):\n",
    "    \"\"\"\n",
    "    Create Kaggle submision with predictions written as a csv (comma separated values) file \n",
    "    \"\"\"\n",
    "    \n",
    "    ofile  = open(fname, \"w\")\n",
    "    writer = csv.writer(ofile, delimiter=',', quotechar='\"', quoting=csv.QUOTE_ALL)    \n",
    "    \n",
    "    writer.writerow(['id', 'label'])\n",
    "    \n",
    "    \n",
    "    for i in range(preds.shape[0]):\n",
    "        writer.writerow([i,preds[i]])\n",
    "        \n",
    "\n",
    "def convert_to_one_hot(batch, num_values=10):\n",
    "    \"\"\"\n",
    "    Expects a numpy array of labels [4, 3, 0, ...]\n",
    "    Outputs:\n",
    "        [\n",
    "            [0,0,0,0,1,0,0,0,0,0],\n",
    "            [0,0,0,1,0,0,0,0,0,0],\n",
    "            [1,0,0,0,0,0,0,0,0,0],\n",
    "            ....\n",
    "        ]\n",
    "    \"\"\"\n",
    "    one_hot_labels = np.zeros((batch.size, num_values))\n",
    "    one_hot_labels[np.arange(batch.size), batch] = 1\n",
    "    return one_hot_labels\n",
    "\n",
    "        \n",
    "def read_MNIST(dataset = \"training\", path = \"./\", load_small=False):\n",
    "    \"\"\"\n",
    "    reading in MNIST data\n",
    "    this function allows specification of the part to be read (training/testing/validation)\n",
    "    if load_small = True, this will look for the file(s) associated with the small training set\n",
    "    Note that if dataset='testing', no labels will be returned\n",
    "    \"\"\"\n",
    "    \n",
    "    #Figure out the name of the file to load    \n",
    "    if dataset.lower() == \"training\":\n",
    "        file_name_suffix = 'Tr'\n",
    "        has_labels = True\n",
    "    \n",
    "    elif dataset.lower() == \"validation\":\n",
    "        file_name_suffix = 'Vl'\n",
    "        has_labels = True\n",
    "\n",
    "    elif dataset.lower() == \"testing\":\n",
    "        file_name_suffix = 'Te'\n",
    "        has_labels = False\n",
    "\n",
    "    else:\n",
    "        print(\"dataset must be 'testing','validation', or 'training'\")\n",
    "        raise ValueError\n",
    "    \n",
    "    if load_small:\n",
    "        file_name_suffix += '_sm'\n",
    "    \n",
    "    #Load the appropriate files\n",
    "    X = np.load('./x'+file_name_suffix+'.npy')\n",
    "    if has_labels:\n",
    "        y = np.load('./y'+file_name_suffix+'.npy')\n",
    "    \n",
    "\n",
    "    #Return the appropriate data\n",
    "    if has_labels:\n",
    "        return X,y\n",
    "    else:\n",
    "        return X\n",
    "\n",
    "\n",
    "\n",
    "def show_MNIST_example(image):\n",
    "    \"\"\"\n",
    "    Render a given numpy.uint8 array of pixel data as an image.\n",
    "    \"\"\"\n",
    "    image = image[-28**2:]\n",
    "    image = image.reshape(28,28)\n",
    "\n",
    "    fig = plt.figure()\n",
    "    ax = fig.add_subplot(1,1,1)\n",
    "    imgplot = ax.imshow(image, cmap=mpl.cm.Greys)\n",
    "    imgplot.set_interpolation('nearest')\n",
    "    ax.xaxis.set_ticks_position('top')\n",
    "    ax.yaxis.set_ticks_position('left')\n",
    "    plt.axis('off')\n",
    "    plt.show()"
   ]
  },
  {
   "cell_type": "code",
   "execution_count": 21,
   "metadata": {},
   "outputs": [
    {
     "name": "stdout",
     "output_type": "stream",
     "text": [
      "[[-2 -1  0]\n",
      " [-2 -1  0]\n",
      " [-3 -2  0]]\n",
      "[[0.13533528 0.36787944 1.        ]\n",
      " [0.13533528 0.36787944 1.        ]\n",
      " [0.04978707 0.13533528 1.        ]]\n"
     ]
    },
    {
     "data": {
      "text/plain": [
       "array([[0.09003057, 0.24472847, 0.66524096],\n",
       "       [0.09003057, 0.24472847, 0.66524096],\n",
       "       [0.04201007, 0.1141952 , 0.84379473]])"
      ]
     },
     "execution_count": 21,
     "metadata": {},
     "output_type": "execute_result"
    }
   ],
   "source": [
    "scores =  np.array([[1, 2,3], [4, 5, 6], [7,8,10]])\n",
    "for i in range(scores.shape[0]):\n",
    "    scores[i,:] = scores[i,:] - np.max(scores[i,:])\n",
    "print(scores)\n",
    "softmax = np.exp(scores)\n",
    "print(softmax)\n",
    "for i in range(softmax.shape[0]):\n",
    "    sum = np.sum(softmax[i,:])\n",
    "    for j in range(3):\n",
    "        softmax[i,j] = softmax[i,j]/sum\n",
    "softmax"
   ]
  },
  {
   "cell_type": "code",
   "execution_count": 34,
   "metadata": {},
   "outputs": [],
   "source": [
    "predictions = softmax\n",
    "y = np.eye(3)\n"
   ]
  },
  {
   "cell_type": "code",
   "execution_count": 35,
   "metadata": {},
   "outputs": [],
   "source": [
    "LL_array = np.zeros(y.shape[0])\n",
    "for i in range(predictions.shape[0]):\n",
    "    LL_array[i] = np.dot(predictions[i],y[i])\n",
    "LL = np.average(np.log(LL_array))"
   ]
  },
  {
   "cell_type": "code",
   "execution_count": 37,
   "metadata": {},
   "outputs": [
    {
     "data": {
      "text/plain": [
       "array([0.09003057, 0.24472847, 0.84379473])"
      ]
     },
     "execution_count": 37,
     "metadata": {},
     "output_type": "execute_result"
    }
   ],
   "source": [
    "LL_array"
   ]
  },
  {
   "cell_type": "code",
   "execution_count": 26,
   "metadata": {},
   "outputs": [],
   "source": [
    "LL_array = np.zeros(y.shape[0])"
   ]
  },
  {
   "cell_type": "code",
   "execution_count": 28,
   "metadata": {},
   "outputs": [],
   "source": [
    "for i in range(predictions.shape[0]):\n",
    "        LL_array[i] = np.dot(predictions[i],y[i])\n"
   ]
  },
  {
   "cell_type": "code",
   "execution_count": 29,
   "metadata": {},
   "outputs": [
    {
     "data": {
      "text/plain": [
       "array([0.09003057, 0.24472847, 0.84379473])"
      ]
     },
     "execution_count": 29,
     "metadata": {},
     "output_type": "execute_result"
    }
   ],
   "source": [
    "LL_array"
   ]
  },
  {
   "cell_type": "code",
   "execution_count": 30,
   "metadata": {},
   "outputs": [],
   "source": [
    "LL = np.average(np.log(LL_array))"
   ]
  },
  {
   "cell_type": "code",
   "execution_count": 33,
   "metadata": {},
   "outputs": [
    {
     "data": {
      "text/plain": [
       "array([-2.40760596, -1.40760596, -0.16984602])"
      ]
     },
     "execution_count": 33,
     "metadata": {},
     "output_type": "execute_result"
    }
   ],
   "source": [
    "np.log(LL_array)"
   ]
  },
  {
   "cell_type": "code",
   "execution_count": 38,
   "metadata": {},
   "outputs": [
    {
     "data": {
      "text/plain": [
       "array([[0.09003057, 0.24472847, 0.66524096],\n",
       "       [0.09003057, 0.24472847, 0.66524096],\n",
       "       [0.04201007, 0.1141952 , 0.84379473]])"
      ]
     },
     "execution_count": 38,
     "metadata": {},
     "output_type": "execute_result"
    }
   ],
   "source": [
    "predictions"
   ]
  },
  {
   "cell_type": "code",
   "execution_count": 39,
   "metadata": {},
   "outputs": [
    {
     "data": {
      "text/plain": [
       "array([[0.09003057, 0.09003057, 0.04201007],\n",
       "       [0.24472847, 0.24472847, 0.1141952 ],\n",
       "       [0.66524096, 0.66524096, 0.84379473]])"
      ]
     },
     "execution_count": 39,
     "metadata": {},
     "output_type": "execute_result"
    }
   ],
   "source": [
    "predictions.transpose()"
   ]
  },
  {
   "cell_type": "code",
   "execution_count": 42,
   "metadata": {},
   "outputs": [],
   "source": [
    "def infer(X,w):\n",
    "    \"\"\"\n",
    "    Compute the class scores that model w gives for each class, given data X\n",
    "    With 10 classes, there would be 10 scores for each x\n",
    "    \"\"\"\n",
    "    # w is a 2D np-array of size 784*10\n",
    "    # X is a 1D np-array of size N*784\n",
    "    #return scores, size N*10\n",
    "    \n",
    "    #check shape\n",
    "    if len(X.shape) == 1 or X.shape[0] == 1 or X.shape[1] ==1:\n",
    "        X = X.reshape(1,-1)\n",
    "    \n",
    "    \n",
    "    scores = np.dot(X,w)\n",
    "    \n",
    "    #To avoid overflow, substrating the maximum value of each row\n",
    "    for i in range(scores.shape[0]):\n",
    "        scores[i,:] = scores[i,:] - np.max(scores[i,:])\n",
    "    return scores\n",
    "\n",
    "def softmax(scores):\n",
    "    \"\"\"\n",
    "    Computes the softmax function given model scores\n",
    "    \n",
    "    \"\"\"\n",
    "    \n",
    "    #return, softmax N*10 \n",
    "    \n",
    "    softmax = np.exp(scores)\n",
    "    for i in range(softmax.shape[0]):\n",
    "        sum = np.sum(softmax[i,:])\n",
    "        for j in range(softmax.shape[1]):\n",
    "            softmax[i,j] = softmax[i,j]/sum\n",
    "    return softmax\n",
    "\n",
    "\n",
    "def log_likelihood(X, w, y):\n",
    "    \"\"\"\n",
    "    \n",
    "    Inputs: \n",
    "      X: a Nxd matrix where each of the N rows is a datapont with d features\n",
    "      Y: a Nx10 matrix, each row is a one-hot vector with the ith entry is 1 if that datapoint belongs to class i \n",
    "      w: is a dx10 matrix containing your model parameters\n",
    "    Outputs:\n",
    "      LL: a scalar containing the AVERAGE log-likelihood of the dataset's labels y, given inputs X and model w\n",
    "    \"\"\"\n",
    "    #compute the un-normalized 'scores' of each class for each datapoint\n",
    "    scores = infer(X,w)\n",
    "    #normalize the scores to get a distribution over classes for each datapoint\n",
    "    predictions = softmax(scores) #************* your code\n",
    "    \n",
    "    LL_array = np.zeros(y.shape[0])\n",
    "    for i in range(predictions.shape[0]):\n",
    "        LL_array[i] = np.dot(predictions[i],y[i])\n",
    "    LL = np.average(np.log(LL_array))\n",
    "    \n",
    "    return LL\n",
    "\n",
    "\n",
    "def objective(X, w, y):\n",
    "    \"\"\"\n",
    "    Compute components of the optimization objective\n",
    "    Outputs:\n",
    "        logloss: value of log-loss (negative average log-likelihood)\n",
    "        regularizer: value of the regularization term (Frobenius norm of w), NOT multiplied by lambda\n",
    "    \"\"\"\n",
    "    logloss = -log_likelihood(X,w,y)\n",
    "    regularizer =0\n",
    "    for i in range(w.shape[0]):\n",
    "        for j in range(w.shape[1]):\n",
    "            regularizer += w[i,j]**2\n",
    "    return logloss, regularizer\n",
    "\n",
    "\n",
    "def gradient(X,w,y):\n",
    "    \"\"\"\n",
    "    Compute in grad the gradient of the log-loss of the model (w) given the features (X) and labels (y) w.r.t. w\n",
    "    Also compute and return in l2grad the gradient of the regularizer lambda*norm(w)\n",
    "    Note: we can't use the name 'lambda' since it's a keyword in Python\n",
    "    Reminder: the full objective to be MINIMIZED is -log p(y|X;w) + lmbda*norm2(w)\n",
    "    \"\"\"\n",
    "    \n",
    "    #Compute any extra variable needed to compute the gradient:\n",
    "    scores = infer(X, w)\n",
    "    predictions = softmax(scores) #N*10\n",
    "    #x is N*d\n",
    "    #y is N*10\n",
    "    #w is d*10\n",
    "    #Compute the gradient of the average log-loss\n",
    "    #grad = #************ your code\n",
    "    \n",
    "    grad = 1/X.shape[0]*(np.matmul(predictions.transpose(),X) - np.matmul(y.transpose(),X)) #10*d\n",
    "    grad = grad.transpose() #d*10\n",
    "    l2grad = 2*w #d*10\n",
    "    \n",
    "    \n",
    "    return grad, l2grad\n",
    "\n",
    "\n",
    "\n",
    "def accuracy(X,w,y):\n",
    "    \"\"\"\n",
    "    Compute accuracy (one minus average 0/1 loss) of model w relative to true labels y on data X\n",
    "    \"\"\"\n",
    "    y_hat = np.argmax(infer(X,w),axis=1)\n",
    "    y = np.argmax(y,axis=1)\n",
    "    acc = np.sum(np.equal(y,y_hat).astype(np.float32))/y.shape[0]\n",
    "    return acc\n",
    "    \n",
    "    "
   ]
  },
  {
   "cell_type": "markdown",
   "metadata": {},
   "source": [
    "Definition of the learning algorithm (minibatch SGD)"
   ]
  },
  {
   "cell_type": "code",
   "execution_count": 82,
   "metadata": {},
   "outputs": [],
   "source": [
    "def minibatch_sgd(xTr, yTr, xVl, yVl, lmbda=0, lr = .01,maxepochs=10,bsize=32,objTol=.01,verbose=1):\n",
    "    \n",
    "    # you need to write it!\n",
    "    # it will need to return the tuple (model parameters, objective value, training accuracy)\n",
    "    \n",
    "    #shuffle the training matrix.\n",
    "    shuffling_matrix = np.random.permutation(xTr.shape[0])\n",
    "    xTr = np.take(xTr,shuffling_matrix,axis=0)\n",
    "    yTr = np.take(yTr,shuffling_matrix,axis=0)\n",
    "    \n",
    "\n",
    "    w = np.random.randn(xTr.shape[1],10) #d*10\n",
    "    epoch = 0\n",
    "    lastloss = np.Inf\n",
    "    converged = False\n",
    "    while True:\n",
    "        epoch += 1\n",
    "        it = 0\n",
    "        for first in range(0,xTr.shape[0],bsize):\n",
    "            it += 1\n",
    "\n",
    "            logloss, regularizer = objective(xTr[first:first+bsize], w, yTr[first:first+bsize])\n",
    "            total_loss = logloss+lmbda*regularizer\n",
    "            \n",
    "            grad, l2grad = gradient(xTr[first:first+bsize], w, yTr[first:first+bsize])\n",
    "            total_grad = grad+lmbda*l2grad\n",
    "            \n",
    "            if it % 10 == 0:\n",
    "                converged = epoch > maxepochs or total_loss > lastloss-objTol\n",
    "                lastloss = total_loss\n",
    "                if verbose==2 or verbose==1 and it % (100) == 0:\n",
    "                    print('epoch %d: iter %d:  loss %.4f' %(epoch, it, total_loss))\n",
    "                if converged:\n",
    "                    break\n",
    "            w = w - lr*total_grad # update w (only if continuing updates)\n",
    "        if converged:\n",
    "            break\n",
    "    return w,lastloss, accuracy(xTr,w,yTr)#, accuracy(xVl,w,yVl)"
   ]
  },
  {
   "cell_type": "code",
   "execution_count": 51,
   "metadata": {},
   "outputs": [],
   "source": [
    "xTr, yTr = read_MNIST('Training')\n",
    "xVl, yVl = read_MNIST('Validation')\n",
    "\n",
    "xTr, yTr, mu, sigma = preprocess_data(xTr, yTr, visualize=False)\n",
    "xVl, yVl, = preprocess_data(xVl, yVl, mu, sigma, visualize=False)"
   ]
  },
  {
   "cell_type": "code",
   "execution_count": 80,
   "metadata": {},
   "outputs": [
    {
     "name": "stdout",
     "output_type": "stream",
     "text": [
      "epoch 1: iter 100:  loss 1.5907\n"
     ]
    },
    {
     "data": {
      "text/plain": [
       "(array([[-1.74132045e-02, -3.30540604e-02,  6.99679132e-03, ...,\n",
       "         -4.58219674e-03,  3.85935073e-02, -4.49335381e-03],\n",
       "        [ 2.14617133e-03,  3.12493767e-03,  4.15252294e-03, ...,\n",
       "          7.53187065e-04,  1.45518178e-05,  1.76866175e-03],\n",
       "        [ 2.67848402e-03, -5.71122251e-03, -1.02881126e-03, ...,\n",
       "         -4.04502243e-04, -2.90275433e-03,  2.25055774e-03],\n",
       "        ...,\n",
       "        [-2.06439967e-04, -3.25263083e-03, -1.04656113e-03, ...,\n",
       "         -4.04195552e-03,  1.15266702e-03,  1.69574174e-03],\n",
       "        [ 8.33722655e-04, -4.49367992e-04,  2.56925879e-03, ...,\n",
       "          3.65077922e-04,  3.23647713e-03,  1.35489306e-04],\n",
       "        [-5.02040516e-04,  2.60284917e-03,  4.19663852e-03, ...,\n",
       "         -1.88115280e-03,  1.24203661e-03, -1.17068974e-03]]),\n",
       " 1.158715484968561,\n",
       " 0.8301,\n",
       " 0.8218)"
      ]
     },
     "execution_count": 80,
     "metadata": {},
     "output_type": "execute_result"
    }
   ],
   "source": [
    "minibatch_sgd(xTr, yTr, xVl, yVl, lmbda=0.2, lr = .1,maxepochs=10,bsize=32,objTol=.01,verbose=1)"
   ]
  },
  {
   "cell_type": "markdown",
   "metadata": {},
   "source": [
    "Let's start our experiments by visualizing the data (you can run this even before completing any code)"
   ]
  },
  {
   "cell_type": "code",
   "execution_count": 4,
   "metadata": {
    "scrolled": false
   },
   "outputs": [
    {
     "name": "stdout",
     "output_type": "stream",
     "text": [
      "Training images\n",
      "Class: 5\n"
     ]
    },
    {
     "data": {
      "image/png": "[encoded data removed]",
      "text/plain": [
       "<Figure size 432x288 with 1 Axes>"
      ]
     },
     "metadata": {
      "needs_background": "light"
     },
     "output_type": "display_data"
    },
    {
     "name": "stdout",
     "output_type": "stream",
     "text": [
      "Class: 9\n"
     ]
    },
    {
     "data": {
      "image/png": "[encoded data removed]",
      "text/plain": [
       "<Figure size 432x288 with 1 Axes>"
      ]
     },
     "metadata": {
      "needs_background": "light"
     },
     "output_type": "display_data"
    },
    {
     "name": "stdout",
     "output_type": "stream",
     "text": [
      "Validation images\n",
      "Class: 1\n"
     ]
    },
    {
     "data": {
      "image/png": "[encoded data removed]",
      "text/plain": [
       "<Figure size 432x288 with 1 Axes>"
      ]
     },
     "metadata": {
      "needs_background": "light"
     },
     "output_type": "display_data"
    },
    {
     "name": "stdout",
     "output_type": "stream",
     "text": [
      "Class: 1\n"
     ]
    },
    {
     "data": {
      "image/png": "[encoded data removed]",
      "text/plain": [
       "<Figure size 432x288 with 1 Axes>"
      ]
     },
     "metadata": {
      "needs_background": "light"
     },
     "output_type": "display_data"
    }
   ],
   "source": [
    "\n",
    "X,y = read_MNIST('training')\n",
    "print('Training images')\n",
    "print('Class: %d'%y[10])\n",
    "show_MNIST_example(X[10])\n",
    "print('Class: %d'%y[20])\n",
    "show_MNIST_example(X[20])\n",
    "\n",
    "\n",
    "X,y = read_MNIST('validation')\n",
    "print('Validation images')\n",
    "print('Class: %d'%y[10])\n",
    "show_MNIST_example(X[10])\n",
    "print('Class: %d'%y[20])\n",
    "show_MNIST_example(X[20])\n",
    "\n"
   ]
  },
  {
   "cell_type": "markdown",
   "metadata": {},
   "source": [
    "Before we can start experiments, we need one more piece: feature transform. In this case we are using the \"raw\" features (pixel values) plus the constant term, but with normalization that applies z-scoring to each pixel. "
   ]
  },
  {
   "cell_type": "code",
   "execution_count": 5,
   "metadata": {},
   "outputs": [],
   "source": [
    "# if mu and sigma are provided, they are used to normalize each pixel\n",
    "# otherwise, they are computed and returned\n",
    "def preprocess_data(X, y = None, mu = None, sigma = None, visualize = False):\n",
    "\n",
    "    if visualize:\n",
    "        print('VISUALIZE BEFORE NORMALIZATION')\n",
    "        #Visualize example before normalization\n",
    "        show_MNIST_example(X[30])\n",
    "        show_MNIST_example(X[500])\n",
    "    \n",
    "    X = X.reshape(X.shape[0], -1)\n",
    "    \n",
    "    if mu is None: # need to compute normalizing stats\n",
    "        compute_stats = True\n",
    "        mu = X.mean(axis=0, keepdims=True)\n",
    "        sigma = X.std(axis=0, keepdims=True)\n",
    "        sigma[np.equal(sigma,0)] = 1.0 # avoid division by zero in case of degenerate features\n",
    "    else:\n",
    "        compute_stats = False\n",
    "        \n",
    "    #Normalize the data\n",
    "    X = (X - mu) / sigma\n",
    "    bias_feature = np.ones((X.shape[0],1))\n",
    "    X = np.concatenate([np.ones((X.shape[0],1)),X],1)\n",
    "    \n",
    "    # process the labels\n",
    "    if y is not None:\n",
    "        y_out = np.array([convert_to_one_hot(x) for x in y]).squeeze()\n",
    "    else:\n",
    "        y_out = y\n",
    "\n",
    "    if visualize:\n",
    "        print('VISUALIZE AFTER NORMALIZATION')\n",
    "        #Visualize example after normalization\n",
    "        show_MNIST_example(X[30])\n",
    "        show_MNIST_example(X[500])\n",
    "    \n",
    "    if compute_stats:\n",
    "        return X, y_out, mu, sigma\n",
    "    else:\n",
    "        return X, y_out"
   ]
  },
  {
   "cell_type": "markdown",
   "metadata": {},
   "source": [
    "Test it out (again, this should work without any new code)"
   ]
  },
  {
   "cell_type": "code",
   "execution_count": 6,
   "metadata": {},
   "outputs": [
    {
     "name": "stdout",
     "output_type": "stream",
     "text": [
      "VISUALIZE BEFORE NORMALIZATION\n"
     ]
    },
    {
     "data": {
      "image/png": "[encoded data removed]",
      "text/plain": [
       "<Figure size 432x288 with 1 Axes>"
      ]
     },
     "metadata": {
      "needs_background": "light"
     },
     "output_type": "display_data"
    },
    {
     "data": {
      "image/png": "[encoded data removed]",
      "text/plain": [
       "<Figure size 432x288 with 1 Axes>"
      ]
     },
     "metadata": {
      "needs_background": "light"
     },
     "output_type": "display_data"
    },
    {
     "name": "stdout",
     "output_type": "stream",
     "text": [
      "VISUALIZE AFTER NORMALIZATION\n"
     ]
    },
    {
     "data": {
      "image/png": "[encoded data removed]",
      "text/plain": [
       "<Figure size 432x288 with 1 Axes>"
      ]
     },
     "metadata": {
      "needs_background": "light"
     },
     "output_type": "display_data"
    },
    {
     "data": {
      "image/png": "[encoded data removed]",
      "text/plain": [
       "<Figure size 432x288 with 1 Axes>"
      ]
     },
     "metadata": {
      "needs_background": "light"
     },
     "output_type": "display_data"
    }
   ],
   "source": [
    "xTr, yTr = read_MNIST('Training')\n",
    "xTr, yTr, mu, sigma = preprocess_data(xTr, yTr, visualize=True)"
   ]
  },
  {
   "cell_type": "markdown",
   "metadata": {},
   "source": [
    "We now define the main routine for our experiments: load training/validation data sets, and tune the regularization parameter (and perhaps other parameters you want to tune)"
   ]
  },
  {
   "cell_type": "code",
   "execution_count": 84,
   "metadata": {},
   "outputs": [],
   "source": [
    "# run minibatch SGD for every value of lambda and record training/val accuracy\n",
    "def tune_regularization(xTr, yTr, xVl, yVl, lambdas, sgd_opt):\n",
    "    \n",
    "    obj = dict()\n",
    "    trAcc = dict()\n",
    "    model = dict()\n",
    "    valAcc = dict()\n",
    "\n",
    "    for lmbda in lambdas:\n",
    "        model[lmbda], obj[lmbda], trAcc[lmbda] = minibatch_sgd(\n",
    "                xTr, yTr, xVl, yVl, lmbda, sgd_opt['lr'], sgd_opt['maxepochs'], sgd_opt['bsize'], verbose=sgd_opt['verbose'])\n",
    "        valAcc[lmbda] = accuracy(xVl,model[lmbda],yVl)\n",
    "        if sgd_opt['verbose'] >= 0:\n",
    "            print('-------------- lambda=%.5f, val Acc = %.4f  (tr Acc = %.4f)'%(lmbda,valAcc[lmbda],trAcc[lmbda]))\n",
    "        \n",
    "    return model, obj, trAcc, valAcc"
   ]
  },
  {
   "cell_type": "markdown",
   "metadata": {},
   "source": [
    "Below is the code for running the experiment and selecting the best model/parameters based on the hyperparameter tuning."
   ]
  },
  {
   "cell_type": "code",
   "execution_count": 85,
   "metadata": {},
   "outputs": [
    {
     "name": "stdout",
     "output_type": "stream",
     "text": [
      "-------------- lambda=0.00000, val Acc = 0.4924  (tr Acc = 0.4914)\n",
      "-------------- lambda=0.00010, val Acc = 0.3545  (tr Acc = 0.3507)\n",
      "-------------- lambda=0.00100, val Acc = 0.3562  (tr Acc = 0.3522)\n",
      "-------------- lambda=0.00500, val Acc = 0.4019  (tr Acc = 0.4109)\n",
      "-------------- lambda=0.05000, val Acc = 0.7933  (tr Acc = 0.7978)\n",
      "-------------- lambda=0.01000, val Acc = 0.5924  (tr Acc = 0.5937)\n",
      "-------------- lambda=0.10000, val Acc = 0.8195  (tr Acc = 0.8313)\n",
      "-------------- lambda=1.00000, val Acc = 0.6907  (tr Acc = 0.6964)\n",
      "-------------- lambda=10.00000, val Acc = 0.1144  (tr Acc = 0.1158)\n",
      "0.1\n"
     ]
    }
   ],
   "source": [
    "xTr, yTr = read_MNIST('Training')\n",
    "xVl, yVl = read_MNIST('Validation')\n",
    "\n",
    "xTr, yTr, mu, sigma = preprocess_data(xTr, yTr, visualize=False)\n",
    "xVl, yVl, = preprocess_data(xVl, yVl, mu, sigma, visualize=False)\n",
    "\n",
    "# values below are a recommendation for initial exploration -- you should see if you want to refine these\n",
    "\n",
    "lambdas = [0,.0001,.001,.005,.050,.01,.1,1.0,10.0]\n",
    "# note: we will collect the hyperparameters governing the behavior of SGD and pass them as\n",
    "# a dictionary. Feel free to add to this.\n",
    "sgd_opt = {'bsize':16, 'maxepochs':20, 'lr':.1,'verbose':0}\n",
    "\n",
    "\n",
    "model, obj, trAcc, valAcc = tune_regularization(xTr,yTr,xVl,yVl,lambdas,sgd_opt)\n",
    "#*************** write code to select best model\n",
    "best = [sorted(valAcc.items() ,key = lambda x:x[1])][0][-1][0]\n",
    "print(best)"
   ]
  },
  {
   "cell_type": "markdown",
   "metadata": {},
   "source": [
    "From above testing result, when lambda is 0.05 and 0.1, the validation accuracy is the highest, Additional testing with regarding more fine tuned lambda value lambda = np.arange(0.1,0.55,0.05)"
   ]
  },
  {
   "cell_type": "code",
   "execution_count": 92,
   "metadata": {},
   "outputs": [
    {
     "name": "stdout",
     "output_type": "stream",
     "text": [
      "-------------- lambda=0.10000, val Acc = 0.8079  (tr Acc = 0.8138)\n",
      "-------------- lambda=0.15000, val Acc = 0.8197  (tr Acc = 0.8198)\n",
      "-------------- lambda=0.20000, val Acc = 0.8036  (tr Acc = 0.8055)\n",
      "-------------- lambda=0.25000, val Acc = 0.7832  (tr Acc = 0.7817)\n",
      "-------------- lambda=0.30000, val Acc = 0.7704  (tr Acc = 0.7776)\n",
      "-------------- lambda=0.35000, val Acc = 0.7478  (tr Acc = 0.7511)\n",
      "-------------- lambda=0.40000, val Acc = 0.7449  (tr Acc = 0.7390)\n",
      "-------------- lambda=0.45000, val Acc = 0.7478  (tr Acc = 0.7539)\n",
      "-------------- lambda=0.50000, val Acc = 0.7284  (tr Acc = 0.7322)\n",
      "0.15000000000000002\n"
     ]
    }
   ],
   "source": [
    "lambdas = np.arange(0.1,0.55,0.05)\n",
    "# note: we will collect the hyperparameters governing the behavior of SGD and pass them as\n",
    "# a dictionary. Feel free to add to this.\n",
    "sgd_opt = {'bsize':16, 'maxepochs':20, 'lr':.1,'verbose':0}\n",
    "\n",
    "\n",
    "model, obj, trAcc, valAcc = tune_regularization(xTr,yTr,xVl,yVl,lambdas,sgd_opt)\n",
    "#*************** write code to select best model\n",
    "best = [sorted(valAcc.items() ,key = lambda x:x[1])][0][-1][0]\n",
    "print(best)"
   ]
  },
  {
   "cell_type": "markdown",
   "metadata": {},
   "source": [
    "From the fine tunning of lambda value, the lambda 0.15 has the best validation accuracy. difference between 0.1,0.15,0.2 is very minimal."
   ]
  },
  {
   "cell_type": "code",
   "execution_count": 102,
   "metadata": {},
   "outputs": [],
   "source": [
    "def lr_tune_regularization(xTr, yTr, xVl, yVl, lrs, sgd_opt):\n",
    "    \n",
    "    obj = dict()\n",
    "    trAcc = dict()\n",
    "    model = dict()\n",
    "    valAcc = dict()\n",
    "\n",
    "    for lr in lrs:\n",
    "        model[lr], obj[lr], trAcc[lr] = minibatch_sgd(\n",
    "                xTr, yTr, xVl, yVl, sgd_opt['lmbda'], lr, sgd_opt['maxepochs'], sgd_opt['bsize'], verbose=sgd_opt['verbose'])\n",
    "        valAcc[lr] = accuracy(xVl,model[lr],yVl)\n",
    "        if sgd_opt['verbose'] >= 0:\n",
    "            print('-------------- lr=%.5f, val Acc = %.4f  (tr Acc = %.4f)'%(lr,valAcc[lr],trAcc[lr]))\n",
    "        \n",
    "    return model, obj, trAcc, valAcc"
   ]
  },
  {
   "cell_type": "code",
   "execution_count": 103,
   "metadata": {},
   "outputs": [
    {
     "name": "stdout",
     "output_type": "stream",
     "text": [
      "-------------- lr=0.00100, val Acc = 0.1002  (tr Acc = 0.1075)\n",
      "epoch 1: iter 100:  loss 907.0028\n",
      "epoch 1: iter 200:  loss 660.3497\n",
      "epoch 1: iter 300:  loss 487.3170\n",
      "epoch 1: iter 400:  loss 362.0697\n",
      "-------------- lr=0.00500, val Acc = 0.3915  (tr Acc = 0.3946)\n",
      "epoch 1: iter 100:  loss 655.1959\n",
      "epoch 1: iter 200:  loss 352.0620\n",
      "-------------- lr=0.01000, val Acc = 0.4273  (tr Acc = 0.4230)\n",
      "epoch 1: iter 100:  loss 59.8967\n",
      "epoch 1: iter 200:  loss 3.9676\n",
      "-------------- lr=0.05000, val Acc = 0.8185  (tr Acc = 0.8254)\n",
      "epoch 1: iter 100:  loss 4.1874\n",
      "-------------- lr=0.10000, val Acc = 0.8024  (tr Acc = 0.8052)\n",
      "-------------- lr=0.50000, val Acc = 0.5785  (tr Acc = 0.5789)\n",
      "-------------- lr=1.00000, val Acc = 0.4785  (tr Acc = 0.4822)\n",
      "0.05\n"
     ]
    }
   ],
   "source": [
    "lrs = [.001,.005,.01,.05,.1,.5,1.0]\n",
    "# note: we will collect the hyperparameters governing the behavior of SGD and pass them as\n",
    "# a dictionary. Feel free to add to this.\n",
    "sgd_opt = {'bsize':16, 'maxepochs':20, 'lmbda':.15,'verbose':1}\n",
    "\n",
    "\n",
    "model, obj, trAcc, valAcc = lr_tune_regularization(xTr,yTr,xVl,yVl,lrs,sgd_opt)\n",
    "#*************** write code to select best model\n",
    "best = [sorted(valAcc.items() ,key = lambda x:x[1])][0][-1][0]\n",
    "print(best)"
   ]
  },
  {
   "cell_type": "markdown",
   "metadata": {},
   "source": [
    "Out of all the learning rates, learning rate of 0.1 and 0.05 performed the best with validation accuracy of 0.8024 and 8185 respectively, Therefore, learning rate of 0.05 is picked."
   ]
  },
  {
   "cell_type": "code",
   "execution_count": 106,
   "metadata": {},
   "outputs": [],
   "source": [
    "def tol_tune_regularization(xTr, yTr, xVl, yVl, tols, sgd_opt):\n",
    "    \n",
    "    obj = dict()\n",
    "    trAcc = dict()\n",
    "    model = dict()\n",
    "    valAcc = dict()\n",
    "\n",
    "    for tol in tols:\n",
    "        model[tol], obj[tol], trAcc[tol] = minibatch_sgd(\n",
    "                xTr, yTr, xVl, yVl, sgd_opt['lmbda'],sgd_opt['lr'] , sgd_opt['maxepochs'], sgd_opt['bsize'], objTol=tol,verbose=sgd_opt['verbose'])\n",
    "        valAcc[tol] = accuracy(xVl,model[tol],yVl)\n",
    "        if sgd_opt['verbose'] >= 0:\n",
    "            print('-------------- tol=%.5f, val Acc = %.4f  (tr Acc = %.4f)'%(tol,valAcc[tol],trAcc[tol]))\n",
    "        \n",
    "    return model, obj, trAcc, valAcc"
   ]
  },
  {
   "cell_type": "code",
   "execution_count": 107,
   "metadata": {},
   "outputs": [
    {
     "name": "stdout",
     "output_type": "stream",
     "text": [
      "epoch 1: iter 100:  loss 58.8636\n",
      "epoch 1: iter 200:  loss 4.4266\n",
      "-------------- tol=0.00010, val Acc = 0.8335  (tr Acc = 0.8357)\n",
      "epoch 1: iter 100:  loss 57.5106\n",
      "epoch 1: iter 200:  loss 3.4363\n",
      "-------------- tol=0.00050, val Acc = 0.8403  (tr Acc = 0.8449)\n",
      "epoch 1: iter 100:  loss 60.7433\n",
      "-------------- tol=0.00100, val Acc = 0.8200  (tr Acc = 0.8248)\n",
      "epoch 1: iter 100:  loss 57.6339\n",
      "epoch 1: iter 200:  loss 3.2551\n",
      "-------------- tol=0.00500, val Acc = 0.8218  (tr Acc = 0.8275)\n",
      "epoch 1: iter 100:  loss 57.8198\n",
      "epoch 1: iter 200:  loss 3.4391\n",
      "-------------- tol=0.01000, val Acc = 0.8373  (tr Acc = 0.8474)\n",
      "epoch 1: iter 100:  loss 59.5267\n",
      "epoch 1: iter 200:  loss 3.5803\n",
      "-------------- tol=0.05000, val Acc = 0.8338  (tr Acc = 0.8385)\n",
      "epoch 1: iter 100:  loss 59.5665\n",
      "epoch 1: iter 200:  loss 3.3498\n",
      "-------------- tol=0.10000, val Acc = 0.8131  (tr Acc = 0.8234)\n",
      "0.0005\n"
     ]
    }
   ],
   "source": [
    "tols = [.0001,.0005,.001,.005,.01,.05,.1]\n",
    "# note: we will collect the hyperparameters governing the behavior of SGD and pass them as\n",
    "# a dictionary. Feel free to add to this.\n",
    "sgd_opt = {'bsize':16, 'maxepochs':20, 'lmbda':.15,'lr':0.05,'verbose':1}\n",
    "\n",
    "\n",
    "model, obj, trAcc, valAcc = tol_tune_regularization(xTr,yTr,xVl,yVl,tols,sgd_opt)\n",
    "#*************** write code to select best model\n",
    "best = [sorted(valAcc.items() ,key = lambda x:x[1])][0][-1][0]\n",
    "print(best)"
   ]
  },
  {
   "cell_type": "markdown",
   "metadata": {},
   "source": [
    "Out of all the tolerance picked, tol = 0.0005 gives out the best performance with validation accuracy of 0.8403, therefore tol=0.0005 is picked"
   ]
  },
  {
   "cell_type": "code",
   "execution_count": 108,
   "metadata": {},
   "outputs": [],
   "source": [
    "def bs_tune_regularization(xTr, yTr, xVl, yVl, bss, sgd_opt):\n",
    "    \n",
    "    obj = dict()\n",
    "    trAcc = dict()\n",
    "    model = dict()\n",
    "    valAcc = dict()\n",
    "\n",
    "    for bs in bss:\n",
    "        model[bs], obj[bs], trAcc[bs] = minibatch_sgd(\n",
    "                xTr, yTr, xVl, yVl, sgd_opt['lmbda'],sgd_opt['lr'] , sgd_opt['maxepochs'], bs , objTol=sgd_opt['tol'],verbose=sgd_opt['verbose'])\n",
    "        valAcc[bs] = accuracy(xVl,model[bs],yVl)\n",
    "        if sgd_opt['verbose'] >= 0:\n",
    "            print('-------------- bs=%.5f, val Acc = %.4f  (tr Acc = %.4f)'%(bs,valAcc[bs],trAcc[bs]))\n",
    "        \n",
    "    return model, obj, trAcc, valAcc"
   ]
  },
  {
   "cell_type": "code",
   "execution_count": 110,
   "metadata": {},
   "outputs": [
    {
     "name": "stdout",
     "output_type": "stream",
     "text": [
      "epoch 1: iter 100:  loss 56.8725\n",
      "epoch 1: iter 200:  loss 3.7255\n",
      "-------------- bs=10.00000, val Acc = 0.8074  (tr Acc = 0.8165)\n",
      "epoch 1: iter 100:  loss 60.1623\n",
      "epoch 1: iter 200:  loss 3.6131\n",
      "-------------- bs=50.00000, val Acc = 0.8678  (tr Acc = 0.8738)\n",
      "epoch 1: iter 100:  loss 58.1490\n",
      "epoch 1: iter 200:  loss 3.3438\n",
      "-------------- bs=100.00000, val Acc = 0.8745  (tr Acc = 0.8837)\n",
      "-------------- bs=500.00000, val Acc = 0.8774  (tr Acc = 0.8853)\n",
      "-------------- bs=750.00000, val Acc = 0.8783  (tr Acc = 0.8844)\n",
      "-------------- bs=1000.00000, val Acc = 0.8763  (tr Acc = 0.8848)\n",
      "750\n"
     ]
    }
   ],
   "source": [
    "bss = [10,50,100,500,750,1000]\n",
    "# note: we will collect the hyperparameters governing the behavior of SGD and pass them as\n",
    "# a dictionary. Feel free to add to this.\n",
    "sgd_opt = {'maxepochs':20, 'lmbda':.15,'lr':0.05,'tol':0.0005,'verbose':1}\n",
    "\n",
    "\n",
    "model, obj, trAcc, valAcc = bs_tune_regularization(xTr,yTr,xVl,yVl,bss,sgd_opt)\n",
    "#*************** write code to select best model\n",
    "best = [sorted(valAcc.items() ,key = lambda x:x[1])][0][-1][0]\n",
    "print(best)"
   ]
  },
  {
   "cell_type": "markdown",
   "metadata": {},
   "source": [
    "From all the batch size picked , even though larger minibatch size have a higher validation accuracy, but it took significantly longer time to compute. Additionally, the accuracy only increased marginally since batch size >100, going to pick the batch size as 100."
   ]
  },
  {
   "cell_type": "markdown",
   "metadata": {},
   "source": [
    "The final model is with lambda=0.15, learning rate = 0.05, batch size=100, tolerance=0.0005."
   ]
  },
  {
   "cell_type": "markdown",
   "metadata": {},
   "source": [
    "Finally, once you have settled on a model, you run it on test Xs and produce your prediction, which can be submitted to Kaggle."
   ]
  },
  {
   "cell_type": "code",
   "execution_count": 123,
   "metadata": {},
   "outputs": [
    {
     "name": "stdout",
     "output_type": "stream",
     "text": [
      "epoch 1: iter 100:  loss 58.4445\n",
      "epoch 1: iter 200:  loss 3.4151\n",
      "epoch 2: iter 100:  loss 0.9366\n"
     ]
    }
   ],
   "source": [
    "model_best,obj_best,tracc_best = minibatch_sgd(xTr, yTr, xVl, yVl,\n",
    "                                               lmbda=0.15, lr = .05, maxepochs=10, bsize=100,\n",
    "                                               objTol=0.0005,verbose=1)"
   ]
  },
  {
   "cell_type": "code",
   "execution_count": 124,
   "metadata": {},
   "outputs": [],
   "source": [
    "valAcc_best = accuracy(xVl,model_best,yVl)"
   ]
  },
  {
   "cell_type": "code",
   "execution_count": 129,
   "metadata": {},
   "outputs": [
    {
     "data": {
      "text/plain": [
       "0.8839"
      ]
     },
     "execution_count": 129,
     "metadata": {},
     "output_type": "execute_result"
    }
   ],
   "source": [
    "tracc_best"
   ]
  },
  {
   "cell_type": "markdown",
   "metadata": {},
   "source": [
    "The model with 0.8763 validation accuracy and 0.8839 training accuracy"
   ]
  },
  {
   "cell_type": "code",
   "execution_count": 135,
   "metadata": {},
   "outputs": [],
   "source": [
    "def compute_confusion(train_preds,train_labels):\n",
    "    conf_m = np.zeros([10,10])\n",
    "    for i in range(train_labels.shape[0]):\n",
    "        if train_labels[i] == train_preds[i]:\n",
    "            conf_m[train_labels[i],train_labels[i]] += 1\n",
    "        else:\n",
    "            conf_m[train_labels[i],train_preds[i]] += 1\n",
    "    return conf_m"
   ]
  },
  {
   "cell_type": "code",
   "execution_count": 141,
   "metadata": {},
   "outputs": [
    {
     "name": "stdout",
     "output_type": "stream",
     "text": [
      "***********************************************************\n",
      "printing stats for the large dataset\n",
      "confusion matrix for training\n",
      "[[1891.    2.   14.    8.    5.   31.   34.    2.    9.    4.]\n",
      " [   1. 1936.   10.    3.    2.    9.    4.    6.   28.    1.]\n",
      " [  17.   45. 1659.   52.   41.    5.   68.   49.   57.    7.]\n",
      " [   9.   39.   42. 1735.    1.   55.   17.   36.   39.   27.]\n",
      " [   4.   31.    8.    0. 1833.    4.   19.   10.   14.   77.]\n",
      " [  39.   47.   12.   91.   36. 1635.   37.   12.   50.   41.]\n",
      " [  16.   18.   16.    0.   12.   39. 1893.    2.    4.    0.]\n",
      " [   7.   62.   15.    9.   31.    2.    2. 1815.    3.   54.]\n",
      " [  21.  151.   27.   78.   20.   61.   10.    9. 1578.   45.]\n",
      " [  20.   30.    8.   36.   91.    4.    2.   89.   17. 1703.]]\n",
      "train accuracy is printed\n",
      "88.39\n",
      "confusion matrix for validation dataset\n",
      "[[940.   0.   5.   6.   7.  14.  19.   1.   6.   2.]\n",
      " [  0. 969.   7.   4.   2.   1.   5.   3.   9.   0.]\n",
      " [  9.  36. 831.  21.  15.   1.  39.  15.  32.   1.]\n",
      " [  5.  23.  30. 848.   2.  38.   9.  15.  19.  11.]\n",
      " [  1.  21.   9.   0. 911.   1.  13.   4.   3.  37.]\n",
      " [ 23.  23.   3.  49.  22. 784.  32.  13.  26.  25.]\n",
      " [ 10.  16.   4.   2.   5.  20. 935.   1.   7.   0.]\n",
      " [  2.  30.   7.   5.   8.   2.   1. 903.   1.  41.]\n",
      " [  7.  58.  10.  36.   7.  35.   8.   6. 813.  20.]\n",
      " [  9.  29.   3.  15.  51.   7.   0.  49.   8. 829.]]\n",
      "validation accuracy is printed\n",
      "87.63\n",
      "printing the weights\n"
     ]
    },
    {
     "data": {
      "image/png": "[encoded data removed]",
      "text/plain": [
       "<Figure size 432x288 with 2 Axes>"
      ]
     },
     "metadata": {
      "needs_background": "light"
     },
     "output_type": "display_data"
    },
    {
     "data": {
      "image/png": "[encoded data removed]",
      "text/plain": [
       "<Figure size 432x288 with 2 Axes>"
      ]
     },
     "metadata": {
      "needs_background": "light"
     },
     "output_type": "display_data"
    },
    {
     "data": {
      "image/png": "[encoded data removed]",
      "text/plain": [
       "<Figure size 432x288 with 2 Axes>"
      ]
     },
     "metadata": {
      "needs_background": "light"
     },
     "output_type": "display_data"
    },
    {
     "data": {
      "image/png": "[encoded data removed]",
      "text/plain": [
       "<Figure size 432x288 with 2 Axes>"
      ]
     },
     "metadata": {
      "needs_background": "light"
     },
     "output_type": "display_data"
    },
    {
     "data": {
      "image/png": "[encoded data removed]",
      "text/plain": [
       "<Figure size 432x288 with 2 Axes>"
      ]
     },
     "metadata": {
      "needs_background": "light"
     },
     "output_type": "display_data"
    },
    {
     "data": {
      "image/png": "[encoded data removed]",
      "text/plain": [
       "<Figure size 432x288 with 2 Axes>"
      ]
     },
     "metadata": {
      "needs_background": "light"
     },
     "output_type": "display_data"
    },
    {
     "data": {
      "image/png": "[encoded data removed]",
      "text/plain": [
       "<Figure size 432x288 with 2 Axes>"
      ]
     },
     "metadata": {
      "needs_background": "light"
     },
     "output_type": "display_data"
    },
    {
     "data": {
      "image/png": "[encoded data removed]",
      "text/plain": [
       "<Figure size 432x288 with 2 Axes>"
      ]
     },
     "metadata": {
      "needs_background": "light"
     },
     "output_type": "display_data"
    },
    {
     "data": {
      "image/png": "[encoded data removed]",
      "text/plain": [
       "<Figure size 432x288 with 2 Axes>"
      ]
     },
     "metadata": {
      "needs_background": "light"
     },
     "output_type": "display_data"
    },
    {
     "data": {
      "image/png": "[encoded data removed]",
      "text/plain": [
       "<Figure size 432x288 with 2 Axes>"
      ]
     },
     "metadata": {
      "needs_background": "light"
     },
     "output_type": "display_data"
    }
   ],
   "source": [
    "xTe = read_MNIST('testing')\n",
    "xTe, _ = preprocess_data(xTe, None, mu, sigma, visualize=False)\n",
    "\n",
    "#Decide which model you want to use for your submission\n",
    "chosen_model = model_best\n",
    "\n",
    "#Make predictions and write them to a csv file\n",
    "final_preds = np.argmax(infer(xTe,chosen_model),axis=1)\n",
    "\n",
    "#*************************************************\n",
    "#computing the training statistics starts from here\n",
    "#*************************************************\n",
    "\n",
    "#predicting on train data\n",
    "train_preds = np.argmax(infer(xTr,chosen_model),axis =1)\n",
    "\n",
    "#collecting the train labels\n",
    "train_labels = np.argmax(yTr,axis =1)\n",
    "\n",
    "#computing the confusion matrix for train error\n",
    "confusion_matrix_train = compute_confusion(train_preds,train_labels)\n",
    "\n",
    "#getting the nuber of correctly classified  training points\n",
    "correct_classified_pts_train = np.trace(confusion_matrix_train)\n",
    "\n",
    "#train accuracy is being computed\n",
    "train_accuracy = (correct_classified_pts_train/float(train_preds.shape[0]))*100\n",
    "\n",
    "#*****************************************************\n",
    "#computing the validation statistics starts from here\n",
    "#*****************************************************\n",
    "np.set_printoptions(suppress=True)\n",
    "#the validation predictions are being collected\n",
    "val_preds = np.argmax(infer(xVl,chosen_model),axis =1)\n",
    "\n",
    "#the actual labels for validation are being collected\n",
    "y_label = np.argmax(yVl,axis = 1)\n",
    "\n",
    "#confusion matrix is being computed for validation data\n",
    "confusion_matrix_val = compute_confusion(val_preds, y_label)\n",
    "\n",
    "#getting the nuber of correctly classified valdidation points\n",
    "correct_classified_pts_val = np.trace(confusion_matrix_val)\n",
    "\n",
    "#valiation accuracy is being computed\n",
    "validation_accuracy = (correct_classified_pts_val/float(val_preds.shape[0]))*100\n",
    "\n",
    "print (\"***********************************************************\")\n",
    "print (\"printing stats for the large dataset\")\n",
    "\n",
    "print (\"confusion matrix for training\")\n",
    "print (confusion_matrix_train)\n",
    "\n",
    "print (\"train accuracy is printed\")\n",
    "print (train_accuracy)\n",
    "\n",
    "#confusion matrix is being printed\n",
    "print (\"confusion matrix for validation dataset\")\n",
    "print (confusion_matrix_val)\n",
    "\n",
    "#printing the validation accuracy\n",
    "print (\"validation accuracy is printed\")\n",
    "print (validation_accuracy)\n",
    "\n",
    "\n",
    "print (\"printing the weights\")\n",
    "\n",
    "w = chosen_model\n",
    "for i in range(10):\n",
    "    plt.imshow(w[1:,i].reshape(28,28))\n",
    "    #plt.imshow(w[-28**:, c].reshape(28, 28))\n",
    "    plt.colorbar()\n",
    "    plt.show()\n",
    "create_submission_file('./large_submission.csv', final_preds)"
   ]
  },
  {
   "cell_type": "markdown",
   "metadata": {},
   "source": [
    "You can now repeat the experiment on the \\emph{small} training set; take care to change/rename things if you are cutting and pasting!"
   ]
  },
  {
   "cell_type": "markdown",
   "metadata": {},
   "source": [
    "From the image show of wc, the higher value within wc sort of have the shape of the digits. For example, for digit 0, clearly there is an circle to be seen.For digit, 0,1,2,3,8,9, an approximate digit shape can be seen from wc. On contrast to those digits, digit 4,5,6,7 is more on the partial features, where digit 4 can seen two straight lines, and digit 5 for the start of the digits. I believe those digits are harder to differentiate to the rest of the digits, therefore the weight of wc emphasized on the special feature of those digits."
   ]
  },
  {
   "cell_type": "code",
   "execution_count": 165,
   "metadata": {},
   "outputs": [],
   "source": [
    "xTr, yTr = read_MNIST('Training',load_small = True)\n",
    "xTr, yTr, mu, sigma = preprocess_data(xTr, yTr, visualize=False)\n",
    "\n",
    "\n",
    "# values below are a recommendation for initial exploration -- you should see if you want to refine these\n",
    "\n"
   ]
  },
  {
   "cell_type": "code",
   "execution_count": 146,
   "metadata": {},
   "outputs": [
    {
     "data": {
      "text/plain": [
       "(60, 10)"
      ]
     },
     "execution_count": 146,
     "metadata": {},
     "output_type": "execute_result"
    }
   ],
   "source": [
    "yTr.shape"
   ]
  },
  {
   "cell_type": "code",
   "execution_count": 166,
   "metadata": {},
   "outputs": [],
   "source": [
    "def sm_minibatch_sgd(xTr, yTr, xVl, yVl, lmbda=0, lr = .01,maxepochs=10,bsize=32,objTol=.01,verbose=1):\n",
    "    \n",
    "    # you need to write it!\n",
    "    # it will need to return the tuple (model parameters, objective value, training accuracy)\n",
    "    \n",
    "    #shuffle the training matrix.\n",
    "    shuffling_matrix = np.random.permutation(xTr.shape[0])\n",
    "    xTr = np.take(xTr,shuffling_matrix,axis=0)\n",
    "    yTr = np.take(yTr,shuffling_matrix,axis=0)\n",
    "    \n",
    "\n",
    "    w = np.random.randn(xTr.shape[1],10) #d*10\n",
    "    epoch = 0\n",
    "    lastloss = np.Inf\n",
    "    converged = False\n",
    "    while True:\n",
    "        epoch += 1\n",
    "        it = 0\n",
    "        for first in range(0,xTr.shape[0],bsize):\n",
    "            it += 1\n",
    "\n",
    "            logloss, regularizer = objective(xTr[first:first+bsize], w, yTr[first:first+bsize])\n",
    "            total_loss = logloss+lmbda*regularizer\n",
    "            \n",
    "            grad, l2grad = gradient(xTr[first:first+bsize], w, yTr[first:first+bsize])\n",
    "            total_grad = grad+lmbda*l2grad\n",
    "            \n",
    "            if it % 1 == 0:\n",
    "                converged = epoch > maxepochs or total_loss > lastloss-objTol\n",
    "                lastloss = total_loss\n",
    "                if verbose==2 or verbose==1 and it % (10) == 0:\n",
    "                    print('epoch %d: iter %d:  loss %.4f' %(epoch, it, total_loss))\n",
    "                if converged:\n",
    "                    break\n",
    "            w = w - lr*total_grad # update w (only if continuing updates)\n",
    "        if converged:\n",
    "            break\n",
    "    return w,lastloss, accuracy(xTr,w,yTr)#, accuracy(xVl,w,yVl)"
   ]
  },
  {
   "cell_type": "code",
   "execution_count": 167,
   "metadata": {},
   "outputs": [],
   "source": [
    "def sm_tune_regularization(xTr, yTr, xVl, yVl, lambdas, sgd_opt):\n",
    "    \n",
    "    obj = dict()\n",
    "    trAcc = dict()\n",
    "    model = dict()\n",
    "    valAcc = dict()\n",
    "\n",
    "    for lmbda in lambdas:\n",
    "\n",
    "        model[lmbda], obj[lmbda], trAcc[lmbda] = sm_minibatch_sgd(\n",
    "                xTr, yTr, xVl, yVl, lmbda, sgd_opt['lr'], sgd_opt['maxepochs'], sgd_opt['bsize'], verbose=sgd_opt['verbose'])\n",
    "        valAcc[lmbda] = accuracy(xVl,model[lmbda],yVl)\n",
    "        if sgd_opt['verbose'] >= 0:\n",
    "            print('-------------- lambda=%.5f, val Acc = %.4f  (tr Acc = %.4f)'%(lmbda,valAcc[lmbda],trAcc[lmbda]))\n",
    "        \n",
    "    return model, obj, trAcc, valAcc"
   ]
  },
  {
   "cell_type": "code",
   "execution_count": 168,
   "metadata": {},
   "outputs": [
    {
     "name": "stdout",
     "output_type": "stream",
     "text": [
      "-------------- lambda=0.00000, val Acc = 0.1319  (tr Acc = 0.1167)\n",
      "-------------- lambda=0.00010, val Acc = 0.0881  (tr Acc = 0.0667)\n",
      "-------------- lambda=0.00100, val Acc = 0.0956  (tr Acc = 0.1500)\n",
      "-------------- lambda=0.00500, val Acc = 0.1179  (tr Acc = 0.0833)\n",
      "-------------- lambda=0.05000, val Acc = 0.1187  (tr Acc = 0.0667)\n",
      "-------------- lambda=0.01000, val Acc = 0.0713  (tr Acc = 0.1000)\n",
      "-------------- lambda=0.10000, val Acc = 0.5256  (tr Acc = 1.0000)\n",
      "-------------- lambda=1.00000, val Acc = 0.5946  (tr Acc = 0.9333)\n",
      "-------------- lambda=10.00000, val Acc = 0.1322  (tr Acc = 0.1333)\n",
      "1.0\n"
     ]
    }
   ],
   "source": [
    "lambdas = [0,.0001,.001,.005,.050,.01,.1,1.0,10.0]\n",
    "# note: we will collect the hyperparameters governing the behavior of SGD and pass them as\n",
    "# a dictionary. Feel free to add to this.\n",
    "sgd_opt = {'bsize':10, 'maxepochs':20, 'lr':.1,'verbose':1}\n",
    "\n",
    "\n",
    "model, obj, trAcc, valAcc = sm_tune_regularization(xTr,yTr,xVl,yVl,lambdas,sgd_opt)\n",
    "#*************** write code to select best model\n",
    "best = [sorted(valAcc.items() ,key = lambda x:x[1])][0][-1][0]\n",
    "print(best)"
   ]
  },
  {
   "cell_type": "code",
   "execution_count": 169,
   "metadata": {},
   "outputs": [
    {
     "name": "stdout",
     "output_type": "stream",
     "text": [
      "-------------- lambda=0.10000, val Acc = 0.5409  (tr Acc = 1.0000)\n",
      "-------------- lambda=0.20000, val Acc = 0.6450  (tr Acc = 1.0000)\n",
      "-------------- lambda=0.30000, val Acc = 0.6479  (tr Acc = 1.0000)\n",
      "-------------- lambda=0.40000, val Acc = 0.6549  (tr Acc = 1.0000)\n",
      "-------------- lambda=0.50000, val Acc = 0.6515  (tr Acc = 1.0000)\n",
      "-------------- lambda=0.60000, val Acc = 0.6561  (tr Acc = 1.0000)\n",
      "-------------- lambda=0.70000, val Acc = 0.6442  (tr Acc = 0.9833)\n",
      "-------------- lambda=0.80000, val Acc = 0.6662  (tr Acc = 0.9833)\n",
      "-------------- lambda=0.90000, val Acc = 0.6171  (tr Acc = 0.9333)\n",
      "0.8\n"
     ]
    }
   ],
   "source": [
    "lambdas = np.arange(0.1,1,0.1)\n",
    "# note: we will collect the hyperparameters governing the behavior of SGD and pass them as\n",
    "# a dictionary. Feel free to add to this.\n",
    "sgd_opt = {'bsize':10, 'maxepochs':20, 'lr':.1,'verbose':1}\n",
    "\n",
    "\n",
    "model, obj, trAcc, valAcc = sm_tune_regularization(xTr,yTr,xVl,yVl,lambdas,sgd_opt)\n",
    "#*************** write code to select best model\n",
    "best = [sorted(valAcc.items() ,key = lambda x:x[1])][0][-1][0]\n",
    "print(best)"
   ]
  },
  {
   "cell_type": "markdown",
   "metadata": {},
   "source": [
    "At lambda = 0.8 produce the best result with validation accuracy of  0.66"
   ]
  },
  {
   "cell_type": "code",
   "execution_count": 171,
   "metadata": {},
   "outputs": [],
   "source": [
    "def sm_lr_tune_regularization(xTr, yTr, xVl, yVl, lrs, sgd_opt):\n",
    "    \n",
    "    obj = dict()\n",
    "    trAcc = dict()\n",
    "    model = dict()\n",
    "    valAcc = dict()\n",
    "\n",
    "    for lr in lrs:\n",
    "        model[lr], obj[lr], trAcc[lr] = sm_minibatch_sgd(\n",
    "                xTr, yTr, xVl, yVl, sgd_opt['lmbda'], lr, sgd_opt['maxepochs'], sgd_opt['bsize'], verbose=sgd_opt['verbose'])\n",
    "        valAcc[lr] = accuracy(xVl,model[lr],yVl)\n",
    "        if sgd_opt['verbose'] >= 0:\n",
    "            print('-------------- lr=%.5f, val Acc = %.4f  (tr Acc = %.4f)'%(lr,valAcc[lr],trAcc[lr]))\n",
    "        \n",
    "    return model, obj, trAcc, valAcc"
   ]
  },
  {
   "cell_type": "code",
   "execution_count": 172,
   "metadata": {},
   "outputs": [
    {
     "name": "stdout",
     "output_type": "stream",
     "text": [
      "-------------- lr=0.00100, val Acc = 0.0806  (tr Acc = 0.1000)\n",
      "-------------- lr=0.00500, val Acc = 0.1632  (tr Acc = 0.2667)\n",
      "-------------- lr=0.01000, val Acc = 0.3508  (tr Acc = 0.8333)\n",
      "-------------- lr=0.05000, val Acc = 0.6512  (tr Acc = 1.0000)\n",
      "-------------- lr=0.10000, val Acc = 0.6631  (tr Acc = 1.0000)\n",
      "-------------- lr=0.50000, val Acc = 0.2457  (tr Acc = 0.3167)\n",
      "-------------- lr=1.00000, val Acc = 0.1844  (tr Acc = 0.2833)\n",
      "0.1\n"
     ]
    }
   ],
   "source": [
    "lrs = [.001,.005,.01,.05,.1,.5,1.0]\n",
    "# note: we will collect the hyperparameters governing the behavior of SGD and pass them as\n",
    "# a dictionary. Feel free to add to this.\n",
    "sgd_opt = {'bsize':10, 'maxepochs':20, 'lmbda':0.8,'verbose':1}\n",
    "\n",
    "\n",
    "model, obj, trAcc, valAcc = sm_lr_tune_regularization(xTr,yTr,xVl,yVl,lrs,sgd_opt)\n",
    "#*************** write code to select best model\n",
    "best = [sorted(valAcc.items() ,key = lambda x:x[1])][0][-1][0]\n",
    "print(best)"
   ]
  },
  {
   "cell_type": "markdown",
   "metadata": {},
   "source": [
    "learning rate of 0.1 gives the best result of validation accuracy of 0.64"
   ]
  },
  {
   "cell_type": "code",
   "execution_count": 161,
   "metadata": {},
   "outputs": [],
   "source": [
    "def sm_tol_tune_regularization(xTr, yTr, xVl, yVl, tols, sgd_opt):\n",
    "    \n",
    "    obj = dict()\n",
    "    trAcc = dict()\n",
    "    model = dict()\n",
    "    valAcc = dict()\n",
    "\n",
    "    for tol in tols:\n",
    "        model[tol], obj[tol], trAcc[tol] = sm_minibatch_sgd(\n",
    "                xTr, yTr, xVl, yVl, sgd_opt['lmbda'],sgd_opt['lr'] , sgd_opt['maxepochs'], sgd_opt['bsize'], objTol=tol,verbose=sgd_opt['verbose'])\n",
    "        valAcc[tol] = accuracy(xVl,model[tol],yVl)\n",
    "        if sgd_opt['verbose'] >= 0:\n",
    "            print('-------------- tol=%.5f, val Acc = %.4f  (tr Acc = %.4f)'%(tol,valAcc[tol],trAcc[tol]))\n",
    "        \n",
    "    return model, obj, trAcc, valAcc"
   ]
  },
  {
   "cell_type": "code",
   "execution_count": 173,
   "metadata": {},
   "outputs": [
    {
     "name": "stdout",
     "output_type": "stream",
     "text": [
      "-------------- tol=0.00010, val Acc = 0.5976  (tr Acc = 0.9667)\n",
      "-------------- tol=0.00050, val Acc = 0.6093  (tr Acc = 0.9833)\n",
      "-------------- tol=0.00100, val Acc = 0.6654  (tr Acc = 0.9500)\n",
      "-------------- tol=0.00500, val Acc = 0.5943  (tr Acc = 0.9833)\n",
      "-------------- tol=0.01000, val Acc = 0.6158  (tr Acc = 0.9667)\n",
      "-------------- tol=0.05000, val Acc = 0.6410  (tr Acc = 0.9667)\n",
      "-------------- tol=0.10000, val Acc = 0.6683  (tr Acc = 0.9833)\n",
      "0.1\n"
     ]
    }
   ],
   "source": [
    "tols = [.0001,.0005,.001,.005,.01,.05,.1]\n",
    "# note: we will collect the hyperparameters governing the behavior of SGD and pass them as\n",
    "# a dictionary. Feel free to add to this.\n",
    "sgd_opt = {'bsize':10, 'maxepochs':20, 'lmbda':0.8,'lr':0.1,'verbose':1}\n",
    "\n",
    "\n",
    "model, obj, trAcc, valAcc = sm_tol_tune_regularization(xTr,yTr,xVl,yVl,tols,sgd_opt)\n",
    "#*************** write code to select best model\n",
    "best = [sorted(valAcc.items() ,key = lambda x:x[1])][0][-1][0]\n",
    "print(best)"
   ]
  },
  {
   "cell_type": "markdown",
   "metadata": {},
   "source": [
    "among all the tolerance, there are no big differences, pick 0.001"
   ]
  },
  {
   "cell_type": "code",
   "execution_count": 163,
   "metadata": {},
   "outputs": [],
   "source": [
    "def sm_bs_tune_regularization(xTr, yTr, xVl, yVl, bss, sgd_opt):\n",
    "    \n",
    "    obj = dict()\n",
    "    trAcc = dict()\n",
    "    model = dict()\n",
    "    valAcc = dict()\n",
    "\n",
    "    for bs in bss:\n",
    "        model[bs], obj[bs], trAcc[bs] = sm_minibatch_sgd(\n",
    "                xTr, yTr, xVl, yVl, sgd_opt['lmbda'],sgd_opt['lr'] , sgd_opt['maxepochs'], bs , objTol=sgd_opt['tol'],verbose=sgd_opt['verbose'])\n",
    "        valAcc[bs] = accuracy(xVl,model[bs],yVl)\n",
    "        if sgd_opt['verbose'] >= 0:\n",
    "            print('-------------- bs=%.5f, val Acc = %.4f  (tr Acc = %.4f)'%(bs,valAcc[bs],trAcc[bs]))\n",
    "        \n",
    "    return model, obj, trAcc, valAcc"
   ]
  },
  {
   "cell_type": "code",
   "execution_count": 174,
   "metadata": {},
   "outputs": [
    {
     "name": "stdout",
     "output_type": "stream",
     "text": [
      "-------------- bs=10.00000, val Acc = 0.6246  (tr Acc = 1.0000)\n",
      "-------------- bs=20.00000, val Acc = 0.6565  (tr Acc = 1.0000)\n",
      "-------------- bs=30.00000, val Acc = 0.6535  (tr Acc = 1.0000)\n",
      "-------------- bs=40.00000, val Acc = 0.6388  (tr Acc = 1.0000)\n",
      "-------------- bs=50.00000, val Acc = 0.6190  (tr Acc = 1.0000)\n",
      "20\n"
     ]
    }
   ],
   "source": [
    "bss = [10,20,30,40,50]\n",
    "# note: we will collect the hyperparameters governing the behavior of SGD and pass them as\n",
    "# a dictionary. Feel free to add to this.\n",
    "sgd_opt = {'maxepochs':20, 'lmbda':0.8,'lr':0.1,'tol':0.001,'verbose':1}\n",
    "\n",
    "\n",
    "model, obj, trAcc, valAcc = sm_bs_tune_regularization(xTr,yTr,xVl,yVl,bss,sgd_opt)\n",
    "#*************** write code to select best model\n",
    "best = [sorted(valAcc.items() ,key = lambda x:x[1])][0][-1][0]\n",
    "print(best)"
   ]
  },
  {
   "cell_type": "markdown",
   "metadata": {},
   "source": [
    "batch size does not have big effect on the performance. pick 20 instead. At the end, the traing accuracy is 1, which is the model can fully map the training data."
   ]
  },
  {
   "cell_type": "markdown",
   "metadata": {},
   "source": [
    "Due to the limit of the datasize, the model trained does not have a high performance, therefore a large lambda value could reduce bias thus reduce overall loss. The lambda value is the big difference between training big dataset and small dataset."
   ]
  },
  {
   "cell_type": "code",
   "execution_count": 185,
   "metadata": {},
   "outputs": [
    {
     "name": "stdout",
     "output_type": "stream",
     "text": [
      "10\n",
      "20\n",
      "30\n",
      "40\n",
      "50\n"
     ]
    }
   ],
   "source": [
    "for key in model.keys():\n",
    "    print(key)"
   ]
  },
  {
   "cell_type": "code",
   "execution_count": 187,
   "metadata": {},
   "outputs": [
    {
     "data": {
      "text/plain": [
       "array([[-0.00880008, -0.01158974, -0.00209696, ..., -0.00917167,\n",
       "         0.00276754,  0.0019314 ],\n",
       "       [-0.00324156, -0.00558328,  0.00131978, ..., -0.00512055,\n",
       "         0.0013037 , -0.0019202 ],\n",
       "       [ 0.00258423, -0.00065183,  0.00211798, ...,  0.00441631,\n",
       "         0.00054771,  0.00373418],\n",
       "       ...,\n",
       "       [ 0.00121307,  0.00154748,  0.00086559, ...,  0.00377809,\n",
       "        -0.00018719,  0.0009187 ],\n",
       "       [-0.01026999,  0.0024714 , -0.00323135, ..., -0.00363702,\n",
       "         0.00349938,  0.0012828 ],\n",
       "       [-0.00191817, -0.00041899, -0.00523426, ...,  0.00401607,\n",
       "         0.00307446,  0.00229593]])"
      ]
     },
     "execution_count": 187,
     "metadata": {},
     "output_type": "execute_result"
    }
   ],
   "source": [
    "model[20]"
   ]
  },
  {
   "cell_type": "code",
   "execution_count": 188,
   "metadata": {},
   "outputs": [
    {
     "name": "stdout",
     "output_type": "stream",
     "text": [
      "***********************************************************\n",
      "printing stats for the large dataset\n",
      "confusion matrix for training\n",
      "[[6. 0. 0. 0. 0. 0. 0. 0. 0. 0.]\n",
      " [0. 6. 0. 0. 0. 0. 0. 0. 0. 0.]\n",
      " [0. 0. 6. 0. 0. 0. 0. 0. 0. 0.]\n",
      " [0. 0. 0. 6. 0. 0. 0. 0. 0. 0.]\n",
      " [0. 0. 0. 0. 6. 0. 0. 0. 0. 0.]\n",
      " [0. 0. 0. 0. 0. 6. 0. 0. 0. 0.]\n",
      " [0. 0. 0. 0. 0. 0. 6. 0. 0. 0.]\n",
      " [0. 0. 0. 0. 0. 0. 0. 6. 0. 0.]\n",
      " [0. 0. 0. 0. 0. 0. 0. 0. 6. 0.]\n",
      " [0. 0. 0. 0. 0. 0. 0. 0. 0. 6.]]\n",
      "train accuracy is printed\n",
      "100.0\n",
      "confusion matrix for validation dataset\n",
      "[[904.   3.  10.  31.   6.  17.  21.   1.   1.   6.]\n",
      " [  1. 971.   7.   1.   1.  14.   3.   1.   0.   1.]\n",
      " [ 31.  73. 730.  92.   9.   6.  29.   8.  16.   6.]\n",
      " [ 16.  80.  61. 567.   6. 138.   2.  11.  54.  65.]\n",
      " [  0.  71.  17.   1. 481.   8.  29.  20.  12. 361.]\n",
      " [119. 144.  10. 111.  13. 329.  31.  16. 169.  58.]\n",
      " [ 26.  74.  14.  17.  23.  37. 807.   0.   1.   1.]\n",
      " [  5.  48.   8.   2.  71.  25.   1. 620.   0. 220.]\n",
      " [ 54. 175.  30.  24.  11. 102.  11.  14. 473. 106.]\n",
      " [ 17.  36.   3.   4.  69.  15.   2. 168.   3. 683.]]\n",
      "validation accuracy is printed\n",
      "65.64999999999999\n",
      "printing the weights\n"
     ]
    },
    {
     "data": {
      "image/png": "[encoded data removed]",
      "text/plain": [
       "<Figure size 432x288 with 2 Axes>"
      ]
     },
     "metadata": {
      "needs_background": "light"
     },
     "output_type": "display_data"
    },
    {
     "data": {
      "image/png": "[encoded data removed]",
      "text/plain": [
       "<Figure size 432x288 with 2 Axes>"
      ]
     },
     "metadata": {
      "needs_background": "light"
     },
     "output_type": "display_data"
    },
    {
     "data": {
      "image/png": "[encoded data removed]",
      "text/plain": [
       "<Figure size 432x288 with 2 Axes>"
      ]
     },
     "metadata": {
      "needs_background": "light"
     },
     "output_type": "display_data"
    },
    {
     "data": {
      "image/png": "[encoded data removed]",
      "text/plain": [
       "<Figure size 432x288 with 2 Axes>"
      ]
     },
     "metadata": {
      "needs_background": "light"
     },
     "output_type": "display_data"
    },
    {
     "data": {
      "image/png": "[encoded data removed]",
      "text/plain": [
       "<Figure size 432x288 with 2 Axes>"
      ]
     },
     "metadata": {
      "needs_background": "light"
     },
     "output_type": "display_data"
    },
    {
     "data": {
      "image/png": "[encoded data removed]",
      "text/plain": [
       "<Figure size 432x288 with 2 Axes>"
      ]
     },
     "metadata": {
      "needs_background": "light"
     },
     "output_type": "display_data"
    },
    {
     "data": {
      "image/png": "[encoded data removed]",
      "text/plain": [
       "<Figure size 432x288 with 2 Axes>"
      ]
     },
     "metadata": {
      "needs_background": "light"
     },
     "output_type": "display_data"
    },
    {
     "data": {
      "image/png": "[encoded data removed]",
      "text/plain": [
       "<Figure size 432x288 with 2 Axes>"
      ]
     },
     "metadata": {
      "needs_background": "light"
     },
     "output_type": "display_data"
    },
    {
     "data": {
      "image/png": "[encoded data removed]",
      "text/plain": [
       "<Figure size 432x288 with 2 Axes>"
      ]
     },
     "metadata": {
      "needs_background": "light"
     },
     "output_type": "display_data"
    },
    {
     "data": {
      "image/png": "[encoded data removed]",
      "text/plain": [
       "<Figure size 432x288 with 2 Axes>"
      ]
     },
     "metadata": {
      "needs_background": "light"
     },
     "output_type": "display_data"
    }
   ],
   "source": [
    "xTe = read_MNIST('testing')\n",
    "xTe, _ = preprocess_data(xTe, None, mu, sigma, visualize=False)\n",
    "\n",
    "#Decide which model you want to use for your submission\n",
    "chosen_model = model[best]\n",
    "\n",
    "#Make predictions and write them to a csv file\n",
    "final_preds = np.argmax(infer(xTe,chosen_model),axis=1)\n",
    "\n",
    "#*************************************************\n",
    "#computing the training statistics starts from here\n",
    "#*************************************************\n",
    "\n",
    "#predicting on train data\n",
    "train_preds = np.argmax(infer(xTr,chosen_model),axis =1)\n",
    "\n",
    "#collecting the train labels\n",
    "train_labels = np.argmax(yTr,axis =1)\n",
    "\n",
    "#computing the confusion matrix for train error\n",
    "confusion_matrix_train = compute_confusion(train_preds,train_labels)\n",
    "\n",
    "#getting the nuber of correctly classified  training points\n",
    "correct_classified_pts_train = np.trace(confusion_matrix_train)\n",
    "\n",
    "#train accuracy is being computed\n",
    "train_accuracy = (correct_classified_pts_train/float(train_preds.shape[0]))*100\n",
    "\n",
    "#*****************************************************\n",
    "#computing the validation statistics starts from here\n",
    "#*****************************************************\n",
    "np.set_printoptions(suppress=True)\n",
    "#the validation predictions are being collected\n",
    "val_preds = np.argmax(infer(xVl,chosen_model),axis =1)\n",
    "\n",
    "#the actual labels for validation are being collected\n",
    "y_label = np.argmax(yVl,axis = 1)\n",
    "\n",
    "#confusion matrix is being computed for validation data\n",
    "confusion_matrix_val = compute_confusion(val_preds, y_label)\n",
    "\n",
    "#getting the nuber of correctly classified valdidation points\n",
    "correct_classified_pts_val = np.trace(confusion_matrix_val)\n",
    "\n",
    "#valiation accuracy is being computed\n",
    "validation_accuracy = (correct_classified_pts_val/float(val_preds.shape[0]))*100\n",
    "\n",
    "print (\"***********************************************************\")\n",
    "print (\"printing stats for the large dataset\")\n",
    "\n",
    "print (\"confusion matrix for training\")\n",
    "print (confusion_matrix_train)\n",
    "\n",
    "print (\"train accuracy is printed\")\n",
    "print (train_accuracy)\n",
    "\n",
    "#confusion matrix is being printed\n",
    "print (\"confusion matrix for validation dataset\")\n",
    "print (confusion_matrix_val)\n",
    "\n",
    "#printing the validation accuracy\n",
    "print (\"validation accuracy is printed\")\n",
    "print (validation_accuracy)\n",
    "\n",
    "\n",
    "print (\"printing the weights\")\n",
    "\n",
    "w = chosen_model\n",
    "for i in range(10):\n",
    "    plt.imshow(w[1:,i].reshape(28,28))\n",
    "    #plt.imshow(w[-28**:, c].reshape(28, 28))\n",
    "    plt.colorbar()\n",
    "    plt.show()\n",
    "create_submission_file('./small_submission.csv', final_preds)"
   ]
  }
 ],
 "metadata": {
  "kernelspec": {
   "display_name": "Python 3",
   "language": "python",
   "name": "python3"
  },
  "language_info": {
   "codemirror_mode": {
    "name": "ipython",
    "version": 3
   },
   "file_extension": ".py",
   "mimetype": "text/x-python",
   "name": "python",
   "nbconvert_exporter": "python",
   "pygments_lexer": "ipython3",
   "version": "3.7.6"
  }
 },
 "nbformat": 4,
 "nbformat_minor": 4
}
