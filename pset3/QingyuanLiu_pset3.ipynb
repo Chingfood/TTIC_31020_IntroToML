{
 "cells": [
  {
   "cell_type": "markdown",
   "metadata": {
    "id": "wCq8kJ42ghDl"
   },
   "source": [
    "### TTIC 31020 Introduction to Statistical Machine Learning: SVMs via sub-gradient descent and quadratic programming\n",
    "---\n",
    "**Colab Instructions**\n",
    "\n",
    "You will need access to Google Drive for this; if you don't have it, let us know and we will figure out how to proceed. Also, when you make a copy, it will probably be saved in some default location; you can then move it wherever you like. When you open the notebook, tell Google to open it with Colab.\n",
    "\n",
    "**About Colab**\n",
    "\n",
    "Colab is essentially an online version of Jupyter. The functionality is essentially the same, but we get the added benefit of some nicer UI elements and a remote runtime. In particular, none of this code will run on your local machine (unless you explicitly ask Colab to connect to a local runtime), and all the datasets are hosted remotely.\n",
    "\n",
    "**Introduction**\n",
    "\n",
    "This exact version of the notebook is read-only, so you'll need to copy this into your Drive (File -> Save a copy in Drive) and modify that version.\n",
    "\n",
    "There are two implementation parts to this exercise.\n",
    "\n",
    "**Linear SVM**\n",
    "\n",
    "You will start by implementing a linear SVM using subgradient descent on the primal form. Recall that we can write this as:\n",
    "You will start by implementing a linear SVM using subgradient descent on the primal form. Recall that we can write this as:\n",
    "\\begin{equation*}\n",
    "    \\mathbf{w}^\\ast,b^\\ast = \\arg\\!\\min \\frac{1}{2} \\lVert w \\rVert^2 + C\\sum_{i=1}^N [~ 1 -  y_i(\\mathbf{w} \\cdot \\mathbf{x} +b)~]_+\n",
    "\\end{equation*}\n",
    "Your task here is to implement subgradient descent to calculate an approximation to $\\mathbf{w}^*$.\n",
    "\n",
    "**Kernel SVM**\n",
    "\n",
    "Next, you're going to implement a kernel SVM and test a few kernels on some sanity checks. You will use the _dual_ formulation of the kernel SVM that's in the lecture slides.\n",
    "\n",
    "Once you express the QP for the dual kernel SVM problem in its canonical form, you will plug this into a black-box convex program solver called $\\texttt{cvxopt}$. You will find more specific instructions in the relevant cell.\n",
    "\n",
    "**Evaluation**\n",
    "\n",
    "To check that your code does the right thing, we've included a few synthetic tasks and visualizations. Your code should run pretty fast on these synthetic examples, so you can make changes and iterate quickly.\n",
    "\n",
    "Then, you will test your code on a text classification task; see the relevant cells for more details. **You should get at least 70% test accuracy on the test classification task.**\n",
    "\n",
    "**Exporting for Kaggle**\n",
    "\n",
    "Run the final cell to export the csv file containing your test outputs; then, upload this to Kaggle.\n",
    "\n",
    "**Submission**\n",
    "\n",
    "Please paste a link to your notebook in your assignment and set the sharing settings such that anyone with the link can view your notebook.\n",
    "\n",
    "**Before coding**\n",
    "\n",
    "Before you start writing the code for this assignment, you may find it helpful to first handwrite the gradient descent update step. \n",
    "\n",
    "Similarly, you might find it helpful to first handwrite the QP corresponding to the dual kernel SVM problem before coding this up so that you can keep track of all the variables in the problem."
   ]
  },
  {
   "cell_type": "code",
   "execution_count": null,
   "metadata": {
    "cellView": "form",
    "id": "vNN6eZW5ghDm"
   },
   "outputs": [],
   "source": [
    "#@title Imports and test code. \n",
    "#@markdown Double click here to see exactly what the code's doing.\n",
    "\n",
    "import numpy as np\n",
    "import numpy.random as npr\n",
    "\n",
    "import matplotlib.cm as cm\n",
    "import matplotlib.pyplot as plt\n",
    "%matplotlib inline\n",
    "\n",
    "from math import sqrt\n",
    "\n",
    "import csv\n",
    "import cvxopt\n",
    "\n",
    "def create_submission_file(fname, preds):\n",
    "    \"\"\"Create Kaggle submision with predictions written as a csv file\n",
    "    \"\"\"\n",
    "    ofile  = open(fname, \"w\")  \n",
    "    writer = csv.writer(\n",
    "        ofile, delimiter=',', quotechar='\"', quoting=csv.QUOTE_ALL\n",
    "    )\n",
    "    writer.writerow(['id', 'category'])\n",
    "    for i in range(preds.shape[0]):\n",
    "        writer.writerow([i, preds[i]])\n",
    "\n",
    "\n",
    "def plot_decision_countour(svm, X, y, grid_size=100):\n",
    "    x_min, x_max = X[:, 0].min(), X[:, 0].max()\n",
    "    y_min, y_max = X[:, 1].min(), X[:, 1].max()\n",
    "    xx, yy = np.meshgrid(np.linspace(x_min, x_max, grid_size),\n",
    "                         np.linspace(y_min, y_max, grid_size),\n",
    "                         indexing='ij')\n",
    "    data = np.stack([xx, yy], axis=2).reshape(-1, 2)\n",
    "    pred = svm.predict(data).reshape(xx.shape)\n",
    "    plt.contourf(xx, yy, pred,\n",
    "                 cmap=cm.Paired,\n",
    "                 levels=[-0.001, 0.001],\n",
    "                 extend='both',\n",
    "                 alpha=0.8)\n",
    "    flatten = lambda m: np.array(m).reshape(-1,)\n",
    "    plt.scatter(flatten(X[:,0][y==-1]),flatten(X[:,1][y==-1]),\n",
    "                  c=flatten(y)[y==-1],cmap=cm.Paired,marker='o')\n",
    "    plt.scatter(flatten(X[:,0][y==1]),flatten(X[:,1][y==1]),\n",
    "                  c=flatten(y)[y==1],cmap=cm.Paired,marker='+')\n",
    "    \n",
    "    plt.xlim(x_min, x_max)\n",
    "    plt.ylim(y_min, y_max)\n",
    "    plt.plot()\n",
    "\n",
    "\n",
    "\n",
    "\n",
    "def test_SVM(svm, num_samples=500,linear=False):\n",
    "    \"\"\"test svm\n",
    "    \"\"\"\n",
    "    np.random.seed(783923)\n",
    "\n",
    "    X = npr.random((num_samples, 2)) * 2 - 1\n",
    "    if linear:\n",
    "      y = 2 * (X.sum(axis=1) > 0) - 1.0\n",
    "    else: \n",
    "      y = 2 * ((X ** 2).sum(axis=1) - 0.5 > 0) - 1.0\n",
    "    svm.fit(X,y)\n",
    "    \n",
    "    plot_decision_countour(svm, X, y)\n",
    "\n",
    "    from datetime import datetime\n",
    "    np.random.seed(int(round(datetime.now().timestamp())))\n",
    "\n",
    "def compute_acc(model, X, y):\n",
    "    pred = model.predict(X)\n",
    "    size = len(y)\n",
    "    num_correct = (pred == y).sum()\n",
    "    acc = num_correct / size\n",
    "    print(\"{} out of {} correct, acc {:.3f}\".format(num_correct, size, acc))"
   ]
  },
  {
   "cell_type": "code",
   "execution_count": null,
   "metadata": {
    "id": "zNDW9Ia2ghDq"
   },
   "outputs": [],
   "source": [
    "#@title Linear SVM class **(To be modified)**\n",
    "#@markdown This class contains a shell of an implementation of a linear SVM.\n",
    "#@markdown Double click to expand and see what needs to be implemented.\n",
    "\n",
    "class LinearSVM():\n",
    "    def __init__(self,C):\n",
    "        \"\"\"initialize the svm\n",
    "        \n",
    "        Args:\n",
    "            C: weight associated with the hinge loss term in the SVM loss\n",
    "        \"\"\"\n",
    "        self.w = None\n",
    "        self.bias = None\n",
    "        self.C = C\n",
    "\n",
    "    def fit(self, X, y,num_epochs=30,lr_sched=lambda t: 0.1/t):\n",
    "        \"\"\"Fit the model on the data\n",
    "        \n",
    "        Args:\n",
    "            X: [N x d] data matrix\n",
    "            y: [N, ] array of labels\n",
    "            num_epochs: number of passes over the training data we make\n",
    "            lr_sched: function determining how the learning rate decays across\n",
    "                      epochs\n",
    "        \n",
    "        Returns:\n",
    "            self, in case you want to build a pipeline\n",
    "        \"\"\"\n",
    "        assert np.ndim(X) == 2, 'data matrix X expected to be 2d'\n",
    "        assert np.ndim(y) == 1, 'labels expected to be 1d'\n",
    "        N, d = X.shape\n",
    "        assert N == y.shape[0], 'expect [N, d] data matrix and [N] labels'\n",
    "\n",
    "        # TODO: implement a subgradient descent\n",
    "        \n",
    "        #Shuffle the matrix\n",
    "        shuffling_matrix = np.random.permutation(N)\n",
    "        Xtr = np.take(X,shuffling_matrix,axis = 0)\n",
    "        ytr = np.take(y,shuffling_matrix,axis=0)\n",
    "\n",
    "        #set constants\n",
    "        tol = 1e-4\n",
    "        lam = 1/self.C\n",
    "        self.w = np.zeros(d)\n",
    "        self.bias = 0\n",
    "        t = 0 #steps\n",
    "        \n",
    "\n",
    "        \n",
    "        for i in range(num_epochs):\n",
    "          for j in range(N):\n",
    "            t += 1\n",
    "            if (1 - ytr[j] * (self.bias + np.dot(self.w,Xtr[j,:])) ) > 0:\n",
    "              grad_w = lam*self.w - ytr[j]*Xtr[j,:]\n",
    "              grad_b = -ytr[j]\n",
    "\n",
    "            else:\n",
    "              grad_w = lam*self.w\n",
    "              grad_b = 0\n",
    "            \n",
    "            old_w = self.w\n",
    "            old_b = self.bias\n",
    "\n",
    "            self.w = old_w - 10*lr_sched(t)*grad_w/lam\n",
    "            self.bias = old_b - 10*lr_sched(t)*grad_b/lam\n",
    "\n",
    "            if np.linalg.norm(self.w-old_w) < tol and abs(self.bias - old_b) < tol :\n",
    "              break\n",
    "          \n",
    "          else:\n",
    "            continue\n",
    "          break\n",
    "\n",
    "\n",
    "\n",
    "\n",
    "\n",
    "\n",
    "\n",
    "\n",
    "        print(\"training complete\")\n",
    "        return self\n",
    "\n",
    "    def predict(self, X, binarize=True):\n",
    "        \"\"\"make a prediction and return either the confidence margin or label\n",
    "        \n",
    "        Args:\n",
    "            X: [N, d] array of data or [d,] single data point\n",
    "            binarize: if True, then return the label, else the confidence margin\n",
    "        \n",
    "        Returns:\n",
    "            Either confidence margin or predicted label\n",
    "        \"\"\"\n",
    "        if self.w is None:\n",
    "            raise ValueError(\"go fit the data first\")\n",
    "        X = np.atleast_2d(X)\n",
    "        assert X.shape[1] == self.w.shape[0]\n",
    "        res = X.dot(self.w)\n",
    "        res = res.squeeze()+self.bias\n",
    "        if binarize:\n",
    "            return (res > 0).astype(np.int32) * 2 - 1\n",
    "        else:\n",
    "            return res\n",
    "\n",
    "    def clone(self):\n",
    "        \"\"\"construct a fresh copy of myself\n",
    "        \"\"\"\n",
    "        return LinearSVM(self.lamb, self.num_epochs)"
   ]
  },
  {
   "cell_type": "code",
   "execution_count": null,
   "metadata": {
    "id": "M1cTXCKYghDv"
   },
   "outputs": [],
   "source": [
    "#@title Kernel class. \n",
    "#@markdown This class contains a base implementation of several common\n",
    "#@markdown kernels. If you want to implement custom kernels, you should do that\n",
    "#@markdown here.\n",
    "\n",
    "\n",
    "class Kernel(object):\n",
    "    \"\"\"\n",
    "    A class containing all kinds of kernels.\n",
    "    Note: the kernel should work for both input (Matrix, vector) and (vector, vector)\n",
    "    \"\"\"\n",
    "    @staticmethod\n",
    "    def linear():\n",
    "        def f(x, y):\n",
    "            return np.dot(x, y)\n",
    "        return f\n",
    "\n",
    "    @staticmethod\n",
    "    def gaussian(sigma):\n",
    "        def f(x, y):\n",
    "            exponent = - (1/sigma**2) * np.linalg.norm((x-y).transpose(), 2, 0) ** 2\n",
    "            return np.exp(exponent)\n",
    "        return f\n",
    "\n",
    "    @staticmethod\n",
    "    def _poly(dimension, offset):\n",
    "        def f(x, y):\n",
    "            return (offset + np.dot(x, y)) ** dimension\n",
    "        return f\n",
    "\n",
    "    @staticmethod\n",
    "    def inhomogenous_polynomial(dimension):\n",
    "        return Kernel._poly(dimension=dimension, offset=1.0)\n",
    "\n",
    "    @staticmethod\n",
    "    def homogenous_polynomial(dimension):\n",
    "        return Kernel._poly(dimension=dimension, offset=0.0)\n",
    "\n",
    "    @staticmethod\n",
    "    def hyperbolic_tangent(kappa, c):\n",
    "        def f(x, y):\n",
    "            return np.tanh(kappa * np.dot(x, y) + c)\n",
    "        return f"
   ]
  },
  {
   "cell_type": "code",
   "execution_count": null,
   "metadata": {
    "id": "eSlLz8W7ghDw"
   },
   "outputs": [],
   "source": [
    "#@title Kernel SVM class **(To be modified)**\n",
    "#@markdown In this class, you will fill in the missing functions to\n",
    "#@markdown complete the implementation of the Kernel SVM. We will set up the QP\n",
    "#@markdown optimization and plug it into cvxopt, a black-box convex optimization\n",
    "#@markdown library for Python.\n",
    "\n",
    "class KernelSVM(object):\n",
    "    def __init__(self, kernel, C):\n",
    "        \"\"\"\n",
    "        Build a SVM given kernel function and C\n",
    "\n",
    "        Parameters\n",
    "        ----------\n",
    "        kernel : function\n",
    "            a function takes input (Matrix, vector) or (vector, vector)\n",
    "        C : a scalar\n",
    "            balance term\n",
    "\n",
    "        Returns\n",
    "        -------\n",
    "        \"\"\"\n",
    "        self._kernel = kernel\n",
    "        self.C = C\n",
    "\n",
    "    def fit(self, X, y):\n",
    "        \"\"\"\n",
    "        Fit the model given data X and ground truth label y\n",
    "\n",
    "        Parameters\n",
    "        ----------\n",
    "        X : 2D array\n",
    "            N x d data matrix (row per example)\n",
    "        y : 1D array\n",
    "            class label\n",
    "\n",
    "        Returns\n",
    "        -------\n",
    "        \"\"\"\n",
    "        # Solve the QP problem to get the multipliers\n",
    "        lagrange_multipliers = self._compute_multipliers(X, y)\n",
    "\n",
    "        # Get all the support vectors, support weights and bias\n",
    "        self._construct_predictor(X, y, lagrange_multipliers)\n",
    "    \n",
    "    def predict(self, X):\n",
    "        \"\"\"\n",
    "        Predict the label given data X\n",
    "\n",
    "        Parameters\n",
    "        ----------\n",
    "        X : 2D array\n",
    "            N x d data matrix (row per example)\n",
    "\n",
    "        Returns\n",
    "        -------\n",
    "        y : 1D array\n",
    "            predicted label\n",
    "        \"\"\"\n",
    "        result = np.full(X.shape[0], self._bias) # note: intializing scores with b\n",
    "        for z_i, x_i, y_i in zip(self._weights,\n",
    "                                 self._support_vectors,\n",
    "                                 self._support_vector_labels):\n",
    "            result += z_i * y_i * self._kernel(X, x_i) # the result is \\sum_i alpha_i*y_i*x_i+b\n",
    "        return np.sign(result)\n",
    "\n",
    "    def _kernel_matrix(self, X):\n",
    "        \"\"\"\n",
    "        Get the kernel matrix.\n",
    "\n",
    "        Parameters\n",
    "        ----------\n",
    "        X : 2D array\n",
    "            N x d data matrix (row per example)\n",
    "\n",
    "        Returns\n",
    "        -------\n",
    "        K : 2D array\n",
    "            N x N kernel matrix, where K[i][j] = inner_product(phi(i), phi(j))\n",
    "        \"\"\"\n",
    "        # TODO: implement\n",
    "        \n",
    "        N, d = X.shape\n",
    "\n",
    "        K = np.zeros([N,N])\n",
    "\n",
    "        for i in range(N):\n",
    "          K[i] = self._kernel(X,X[i])\n",
    "        \n",
    "        return K \n",
    "\n",
    "    def _construct_predictor(self, X, y, lagrange_multipliers):\n",
    "        \"\"\"\n",
    "        Given the data, label and the multipliers, extract the support vectors and calculate the bias\n",
    "\n",
    "        Parameters\n",
    "        ----------\n",
    "        X : 2D array\n",
    "            N x d data matrix (row per example)\n",
    "        y : 1D array\n",
    "            class label\n",
    "        lagrange_multipliers: 1D array\n",
    "            the solution of lagrange_multiplier\n",
    "\n",
    "        Returns\n",
    "        -------\n",
    "        \"\"\"\n",
    "        support_vector_indices = \\\n",
    "            lagrange_multipliers > 1e-5\n",
    "            \n",
    "        print(\"SV number: \", np.sum(support_vector_indices))\n",
    "\n",
    "        support_multipliers = lagrange_multipliers[support_vector_indices]\n",
    "        support_vectors = X[support_vector_indices]\n",
    "        support_vector_labels = y[support_vector_indices]\n",
    "\n",
    "        \"\"\"\n",
    "        Get the bias term\n",
    "        \"\"\"\n",
    "        # TODO: implement\n",
    "\n",
    "        positive_vector_indices = support_vector_labels > 0\n",
    "        positive_vectors = support_vectors[positive_vector_indices]\n",
    "        negative_vectors = support_vectors[~positive_vector_indices]\n",
    "\n",
    "        positive_results = np.zeros(positive_vectors.shape[0])\n",
    "        negative_results = np.zeros(negative_vectors.shape[0])\n",
    "\n",
    "        for i in range(positive_results.shape[0]):\n",
    "          positive_results[i] = np.dot(support_multipliers* \\\n",
    "                                       support_vector_labels, \\\n",
    "                                self._kernel(support_vectors,\\\n",
    "                                        positive_vectors[i]) \\\n",
    "                                        )\n",
    "          \n",
    "        for j in range(negative_results.shape[0]):\n",
    "          negative_results[j] = np.dot(support_multipliers* \\\n",
    "                                       support_vector_labels, \\\n",
    "                                self._kernel(support_vectors,\\\n",
    "                                        negative_vectors[j]) \\\n",
    "                                        )\n",
    "          \n",
    "\n",
    "        bias =  - ( np.amax(negative_results) + \\\n",
    "                   np.amin(positive_results) )/2\n",
    "\n",
    "        self._bias=bias\n",
    "        self._weights=support_multipliers\n",
    "        self._support_vectors=support_vectors\n",
    "        self._support_vector_labels=support_vector_labels\n",
    "\n",
    "\n",
    "    def _compute_multipliers(self, X, y):\n",
    "        \"\"\"\n",
    "        Given the data, label, solve the QP program to get lagrange multiplier.\n",
    "\n",
    "        Parameters\n",
    "        ----------\n",
    "        X : 2D array\n",
    "            N x d data matrix (row per example)\n",
    "        y : 1D array\n",
    "            class label\n",
    "\n",
    "        Returns\n",
    "        lagrange_multipliers: 1D array\n",
    "        -------\n",
    "        \"\"\"\n",
    "        N, d = X.shape\n",
    "\n",
    "        K = self._kernel_matrix(X)\n",
    "        \"\"\"\n",
    "        The standard QP solver formulation:\n",
    "        min 1/2 alpha^T H alpha + f^T alpha\n",
    "        s.t.\n",
    "        A * alpha \\coneleq a (A is former G)\n",
    "        B * alpha = b\n",
    "        \"\"\"\n",
    "        # TODO: implement. Specifically, define the H, f, A, a, B, b arguments\n",
    "        # as indicated above.\n",
    "\n",
    "        f = cvxopt.matrix(-np.ones(N))\n",
    "        \n",
    "        y_re = np.reshape(y,[-1,1])\n",
    "        H = cvxopt.matrix( np.dot(y_re,y_re.T)*K )\n",
    "\n",
    "        A = cvxopt.matrix( np.vstack( [np.eye(N),-np.eye(N)] ))\n",
    "\n",
    "        a = cvxopt.matrix( np.hstack( [self.C*np.ones(N) ,\\\n",
    "                                       np.zeros(N)] ) )\n",
    "\n",
    "        B = cvxopt.matrix( np.reshape(y,[1,-1]) )\n",
    "\n",
    "        b = cvxopt.matrix( np.zeros(1) )\n",
    "\n",
    "\n",
    "\n",
    "\n",
    "\n",
    "\n",
    "        solution = cvxopt.solvers.qp(H, f, A, a, B, b)\n",
    "\n",
    "        # Lagrange multipliers\n",
    "        return np.ravel(solution['x'])"
   ]
  },
  {
   "cell_type": "code",
   "execution_count": null,
   "metadata": {
    "cellView": "form",
    "colab": {
     "base_uri": "https://localhost:8080/",
     "height": 282
    },
    "id": "XKPHo4ADghDs",
    "outputId": "37c10dd8-5460-489e-c0fc-2ece9691221d"
   },
   "outputs": [
    {
     "name": "stdout",
     "output_type": "stream",
     "text": [
      "training complete\n"
     ]
    },
    {
     "data": {
      "image/png": "[encoded data removed]",
      "text/plain": [
       "<Figure size 432x288 with 1 Axes>"
      ]
     },
     "metadata": {
      "needs_background": "light",
      "tags": []
     },
     "output_type": "display_data"
    }
   ],
   "source": [
    "#@title Linear SVM Sanity Check\n",
    "\n",
    "svm = LinearSVM(C=10)\n",
    "test_SVM(svm,linear=True)\n"
   ]
  },
  {
   "cell_type": "code",
   "execution_count": null,
   "metadata": {
    "colab": {
     "base_uri": "https://localhost:8080/",
     "height": 630
    },
    "id": "ZwABjvmx5YU0",
    "outputId": "f34bcda6-11a3-4f23-f54e-32867171e4c1"
   },
   "outputs": [
    {
     "name": "stdout",
     "output_type": "stream",
     "text": [
      "     pcost       dcost       gap    pres   dres\n",
      " 0: -1.9266e+03 -8.2705e+05  2e+06  7e-01  1e-13\n",
      " 1:  4.9329e+03 -2.2002e+05  3e+05  8e-02  1e-13\n",
      " 2:  6.6441e+03 -2.9579e+04  5e+04  9e-03  2e-13\n",
      " 3:  1.6114e+03 -4.7146e+03  7e+03  7e-04  8e-14\n",
      " 4:  6.5100e+02 -3.4525e+03  4e+03  4e-04  6e-14\n",
      " 5:  1.1163e+02 -2.5942e+03  3e+03  2e-04  4e-14\n",
      " 6: -3.4980e+02 -1.7871e+03  1e+03  1e-04  4e-14\n",
      " 7: -4.2966e+02 -1.6949e+03  1e+03  9e-05  4e-14\n",
      " 8: -6.7358e+02 -1.3805e+03  7e+02  2e-05  4e-14\n",
      " 9: -7.0056e+02 -1.3373e+03  6e+02  2e-05  4e-14\n",
      "10: -7.5226e+02 -1.2749e+03  5e+02  1e-05  4e-14\n",
      "11: -8.5205e+02 -1.1347e+03  3e+02  2e-06  4e-14\n",
      "12: -8.9271e+02 -1.0830e+03  2e+02  8e-07  4e-14\n",
      "13: -9.3439e+02 -1.0161e+03  8e+01  2e-15  4e-14\n",
      "14: -9.6076e+02 -9.8615e+02  3e+01  8e-14  4e-14\n",
      "15: -9.6975e+02 -9.7559e+02  6e+00  1e-14  4e-14\n",
      "16: -9.7252e+02 -9.7260e+02  8e-02  3e-14  5e-14\n",
      "17: -9.7256e+02 -9.7256e+02  8e-04  9e-14  4e-14\n",
      "Optimal solution found.\n",
      "SV number:  28\n"
     ]
    },
    {
     "data": {
      "image/png": "[encoded data removed]",
      "text/plain": [
       "<Figure size 432x288 with 1 Axes>"
      ]
     },
     "metadata": {
      "needs_background": "light",
      "tags": []
     },
     "output_type": "display_data"
    }
   ],
   "source": [
    "#@title Kernel (Linear) SVM Sanity Check\n",
    "\n",
    "svm = KernelSVM(Kernel.linear(), C=50)\n",
    "test_SVM(svm,linear=True)"
   ]
  },
  {
   "cell_type": "code",
   "execution_count": null,
   "metadata": {
    "cellView": "form",
    "colab": {
     "base_uri": "https://localhost:8080/",
     "height": 526
    },
    "id": "aOt3BNrrghDy",
    "outputId": "e49c0782-4a54-4e7e-88a1-5a07cb29664b"
   },
   "outputs": [
    {
     "name": "stdout",
     "output_type": "stream",
     "text": [
      "     pcost       dcost       gap    pres   dres\n",
      " 0:  2.7857e+02 -1.8307e+04  4e+04  3e-01  1e-14\n",
      " 1:  3.7525e+02 -2.8804e+03  4e+03  2e-02  9e-15\n",
      " 2: -3.9160e+01 -8.8039e+02  9e+02  4e-03  8e-15\n",
      " 3: -2.0026e+02 -6.0292e+02  4e+02  2e-03  8e-15\n",
      " 4: -2.9142e+02 -4.5215e+02  2e+02  6e-04  9e-15\n",
      " 5: -3.3427e+02 -3.9529e+02  6e+01  2e-04  9e-15\n",
      " 6: -3.5268e+02 -3.7183e+02  2e+01  3e-05  1e-14\n",
      " 7: -3.5942e+02 -3.6359e+02  4e+00  5e-06  9e-15\n",
      " 8: -3.6090e+02 -3.6177e+02  9e-01  1e-14  1e-14\n",
      " 9: -3.6130e+02 -3.6133e+02  3e-02  4e-15  1e-14\n",
      "10: -3.6132e+02 -3.6132e+02  5e-04  1e-15  1e-14\n",
      "11: -3.6132e+02 -3.6132e+02  1e-05  1e-14  1e-14\n",
      "Optimal solution found.\n",
      "SV number:  59\n"
     ]
    },
    {
     "data": {
      "image/png": "[encoded data removed]",
      "text/plain": [
       "<Figure size 432x288 with 1 Axes>"
      ]
     },
     "metadata": {
      "needs_background": "light",
      "tags": []
     },
     "output_type": "display_data"
    }
   ],
   "source": [
    "#@title Kernel (RBF) SVM Sanity Check\n",
    "#feel free to play with sigma and C\n",
    "svm = KernelSVM(Kernel.gaussian(sigma=0.5), C=10)\n",
    "test_SVM(svm,linear=False)"
   ]
  },
  {
   "cell_type": "markdown",
   "metadata": {
    "id": "ugL7eaqIJ6Tc"
   },
   "source": [
    "In the tests above, you should have obtained images that look roughly like this:\n",
    "\n",
    "\n",
    "Linear SVM\n",
    "\n",
    "![linear SVM result](https://drive.google.com/uc?id=1XaRAcsIY1UoRq8xnLY45u01CkzGLAKuB)\n",
    "\n",
    "Linear kernel SVM\n",
    "\n",
    "![linear kernel result](https://drive.google.com/uc?id=1OsuPOEMjbap5M7O2fTWymNwJu7DD9fJa) \n",
    "\n",
    "RBF kernel SVM\n",
    "\n",
    "![RBF kernel result](https://drive.google.com/uc?id=1tbH9STSe7p3dOxt6niJhYI17_Id7HGBY)\n",
    "\n"
   ]
  },
  {
   "cell_type": "markdown",
   "metadata": {
    "id": "rvFRZS1SghD1"
   },
   "source": [
    "#### Now that our SVM is working on the toy dataset, let's do a simple sentiment analysis on [tweets on US airline service quality](https://www.kaggle.com/crowdflower/twitter-airline-sentiment/version/2). (WARNING: expletives unfiltered)\n",
    "---\n",
    "- As shown below, our data comes in the form of a csv table. The columns most relevant to our task are 'text' and 'airline_sentiment'.\n",
    "- Data must be represented as a [N x d] matrix, but what we have on our hands is unstructured text.\n",
    "- The simplest solution to transform an airline review into a vector is [bag of words](https://en.wikipedia.org/wiki/Bag-of-words_model). We maintain a global vocabulary of word patterns gathered from our corpus, with single words such as \"great\", \"horrible\", and optionally consecutive words (N-grams) like \"friendly service\", \"luggage lost\". Suppose we have already collected a total of 10000 such patterns, to transform a sentence into a 10000-dimensional vector, we simply scan it and look for the patterns that appear and set their correponding entries to 1 and leave the rest at 0. What we end up with is a sparse vector that can be fed into SVMs.\n",
    "- For this exercise we use the basic text processing routines in nltk and sklearn\n",
    "- Our data is not balanced, with siginificant more negatives than neutral + positives. Therefore we group neutral and positive into one category and the final ratio of non-negative vs negative is about 1:2. This is consistent across train, val and test"
   ]
  },
  {
   "cell_type": "code",
   "execution_count": null,
   "metadata": {
    "colab": {
     "base_uri": "https://localhost:8080/"
    },
    "id": "QUmn6ej2ghD2",
    "outputId": "d6f2b3c3-f36b-4e02-ea18-88452a7d283b"
   },
   "outputs": [
    {
     "name": "stdout",
     "output_type": "stream",
     "text": [
      "[nltk_data] Downloading package stopwords to /root/nltk_data...\n",
      "[nltk_data]   Unzipping corpora/stopwords.zip.\n",
      "[nltk_data] Downloading package punkt to /root/nltk_data...\n",
      "[nltk_data]   Unzipping tokenizers/punkt.zip.\n",
      "[nltk_data] Downloading package wordnet to /root/nltk_data...\n",
      "[nltk_data]   Unzipping corpora/wordnet.zip.\n",
      "  % Total    % Received % Xferd  Average Speed   Time    Time     Time  Current\n",
      "                                 Dload  Upload   Total   Spent    Left  Speed\n",
      "100 2145k  100 2145k    0     0  5501k      0 --:--:-- --:--:-- --:--:-- 5487k\n",
      "  % Total    % Received % Xferd  Average Speed   Time    Time     Time  Current\n",
      "                                 Dload  Upload   Total   Spent    Left  Speed\n",
      "100  466k  100  466k    0     0  1739k      0 --:--:-- --:--:-- --:--:-- 1739k\n",
      "  % Total    % Received % Xferd  Average Speed   Time    Time     Time  Current\n",
      "                                 Dload  Upload   Total   Spent    Left  Speed\n",
      "100  321k  100  321k    0     0  1349k      0 --:--:-- --:--:-- --:--:-- 1349k\n",
      "   Unnamed: 0            tweet_id  ...   tweet_location               user_timezone\n",
      "0        3816  568103618500530176  ...              NaN  Pacific Time (US & Canada)\n",
      "1       10306  569379979055796224  ...   Lewes, DE, USA  Eastern Time (US & Canada)\n",
      "2         292  568840724700995584  ...  Portland, Maine  Eastern Time (US & Canada)\n",
      "\n",
      "[3 rows x 16 columns]\n",
      "negative    5905\n",
      "neutral     1804\n",
      "positive    1442\n",
      "Name: airline_sentiment, dtype: int64\n"
     ]
    }
   ],
   "source": [
    "#@markdown Here, we'll set up the dataset. To show you that this is doing\n",
    "#@markdown something useful, we'll print the first three entries of the\n",
    "#@markdown training set.\n",
    "\n",
    "import os.path as osp\n",
    "import pandas as pd\n",
    "import re, nltk\n",
    "from nltk.stem import WordNetLemmatizer\n",
    "from nltk.corpus import stopwords\n",
    "\n",
    "nltk.download('stopwords')\n",
    "nltk.download('punkt')\n",
    "nltk.download('wordnet')\n",
    "\n",
    "from sklearn.feature_extraction.text import CountVectorizer\n",
    "\n",
    "data_root = 'data/tweets'\n",
    "!curl -O https://ttic.uchicago.edu/~nsm/ttic_31020_2020/hw_3/dataset/train.csv\n",
    "!curl -O https://ttic.uchicago.edu/~nsm/ttic_31020_2020/hw_3/dataset/val.csv\n",
    "!curl -O https://ttic.uchicago.edu/~nsm/ttic_31020_2020/hw_3/dataset/test_release.csv\n",
    "\n",
    "data_root = ''\n",
    "train, val, test = \\\n",
    "    pd.read_csv(osp.join(data_root, 'train.csv')), \\\n",
    "    pd.read_csv(osp.join(data_root, 'val.csv')), \\\n",
    "    pd.read_csv(osp.join(data_root, 'test_release.csv'))\n",
    "\n",
    "print(train.head(3))\n",
    "\n",
    "print(train.airline_sentiment.value_counts())"
   ]
  },
  {
   "cell_type": "code",
   "execution_count": null,
   "metadata": {
    "colab": {
     "base_uri": "https://localhost:8080/"
    },
    "id": "E1Zp-mi8ghEB",
    "outputId": "6bd66ba3-5771-4f2c-ebb7-d8356f0173e0"
   },
   "outputs": [
    {
     "name": "stderr",
     "output_type": "stream",
     "text": [
      "/usr/local/lib/python3.6/dist-packages/sklearn/feature_extraction/text.py:507: UserWarning: The parameter 'token_pattern' will not be used since 'tokenizer' is not None'\n",
      "  warnings.warn(\"The parameter 'token_pattern' will not be used\"\n"
     ]
    },
    {
     "name": "stdout",
     "output_type": "stream",
     "text": [
      "[('u', 165), ('united', 167), ('airport', 4), ('http', 80), ('co', 33), ('http co', 81), ('hour', 78), ('hold', 73), ('please', 126), ('tell', 151)]\n",
      "\n",
      " vocabulary size 184\n"
     ]
    }
   ],
   "source": [
    "#@title Vectorizing the vocabulary\n",
    "#@markdown Here, we build the vocabulary and vector representations for each\n",
    "#@markdown word. You may find it useful to modify parts of this later, but it's\n",
    "#@markdown not strictly necessary. We then sample some of the learned\n",
    "#@markdown vocabulary.\n",
    "\n",
    "# check these out \n",
    "stop_words = set(stopwords.words('english'))\n",
    "wordnet_lemmatizer = WordNetLemmatizer()\n",
    "def tokenize_normalize(tweet):\n",
    "    only_letters = re.sub(\"[^a-zA-Z]\", \" \", tweet)\n",
    "    tokens = nltk.word_tokenize(only_letters)[2:]\n",
    "    lower_case = [l.lower() for l in tokens]\n",
    "    filtered_result = list(filter(lambda l: l not in stop_words, lower_case))\n",
    "    lemmas = [wordnet_lemmatizer.lemmatize(t) for t in filtered_result]\n",
    "    return lemmas\n",
    "\n",
    "# the sklearn vectorizer scans our corpus, build the vocabulary, and changes text into vectors\n",
    "vectorizer = CountVectorizer(\n",
    "    strip_accents='unicode', \n",
    "    lowercase=True, \n",
    "    tokenizer=tokenize_normalize,\n",
    "    ngram_range=(1,2),  # you may want to try 2 grams. The vocab will get very large though,\n",
    "    min_df=100,  # this parameter deletes words that occur in less than min_df\n",
    "                # documents. decreasing this will increase the vocabulary size,\n",
    "                # but may also increase the runtime.\n",
    ")\n",
    "# first learn the vocabulary\n",
    "vectorizer.fit(pd.concat([train, val]).text)\n",
    "\n",
    "\n",
    "print( list(vectorizer.vocabulary_.items())[:10] )\n",
    "print(\"\\n vocabulary size {}\".format(len(vectorizer.vocabulary_)))"
   ]
  },
  {
   "cell_type": "code",
   "execution_count": null,
   "metadata": {
    "id": "JrNel2GAdk-B"
   },
   "outputs": [],
   "source": []
  },
  {
   "cell_type": "code",
   "execution_count": null,
   "metadata": {
    "colab": {
     "base_uri": "https://localhost:8080/"
    },
    "id": "ElkjTodLghEG",
    "outputId": "ce7d4b49-9ae8-4046-a8ca-93376e03a2c4"
   },
   "outputs": [
    {
     "name": "stdout",
     "output_type": "stream",
     "text": [
      "(9151, 184)\n"
     ]
    }
   ],
   "source": [
    "#@title Setting up the training set\n",
    "#@markdown Now, we will prepare the training data so that we can call our\n",
    "#@markdown SVM as a black-box.\n",
    "\n",
    "X = {}\n",
    "y = {}\n",
    "X['train'] = vectorizer.transform(train.text).toarray()\n",
    "X['val'] = vectorizer.transform(val.text).toarray()\n",
    "X['test'] = vectorizer.transform(test.text).toarray()\n",
    "\n",
    "# note that our data is 10250 dimensional. \n",
    "# This is a little daunting for laptops and coming up with a manageable vector\n",
    "# representation is a major topic in Natural Language Processing.\n",
    "print(X['train'].shape)\n",
    "\n",
    "# convert the word labels of 'positive', 'neutral', 'negative' into integer labels\n",
    "# note that positive and neural belong to one category, labelled as 1, while negative stands alone as the other\n",
    "for name, dataframe in zip(['train', 'val'], [train, val]):\n",
    "    sentiments_in_words = dataframe['airline_sentiment'].tolist()\n",
    "    int_lbls = np.array( list(map(lambda x: -1 if x == 'negative' else 1, sentiments_in_words)), dtype=np.int32 )\n",
    "    y[name] = int_lbls"
   ]
  },
  {
   "cell_type": "code",
   "execution_count": null,
   "metadata": {
    "id": "9hCueBBklD9h"
   },
   "outputs": [],
   "source": [
    "vertices = y['train'] == 1"
   ]
  },
  {
   "cell_type": "code",
   "execution_count": null,
   "metadata": {
    "id": "Df4ThBqJvQKx"
   },
   "outputs": [],
   "source": [
    "avg = np.average(X['train'][vertices], axis=0)"
   ]
  },
  {
   "cell_type": "code",
   "execution_count": null,
   "metadata": {
    "colab": {
     "base_uri": "https://localhost:8080/"
    },
    "id": "AcIPEUuVxo9q",
    "outputId": "61022420-f963-44ec-b810-6a5e184379af"
   },
   "outputs": [
    {
     "data": {
      "text/plain": [
       "array([0.01786815, 0.00955022, 0.00831793, 0.030191  , 0.02248922,\n",
       "       0.00831793, 0.03296365, 0.00800986, 0.00123229, 0.00831793,\n",
       "       0.00985829, 0.00924214, 0.02865065, 0.004313  , 0.01848429,\n",
       "       0.0064695 , 0.0237215 , 0.00831793, 0.00924214, 0.01047443,\n",
       "       0.01016636, 0.01016636, 0.01016636, 0.00924214, 0.00831793,\n",
       "       0.00338879, 0.02433765, 0.00462107, 0.00338879, 0.01016636,\n",
       "       0.00708564, 0.02125693, 0.0150955 , 0.14048059, 0.00616143,\n",
       "       0.01109057, 0.0150955 , 0.02618608, 0.02002465, 0.02033272,\n",
       "       0.00831793, 0.00770179, 0.00985829, 0.02957486, 0.00523722,\n",
       "       0.01170672, 0.00955022, 0.008626  , 0.00708564, 0.00585336,\n",
       "       0.01756007, 0.02218115, 0.021565  , 0.02094886, 0.21565003,\n",
       "       0.00400493, 0.00369686, 0.01016636, 0.00154036, 0.00246457,\n",
       "       0.02741836, 0.02218115, 0.0194085 , 0.06346272, 0.00924214,\n",
       "       0.00677757, 0.02556993, 0.01355514, 0.02680222, 0.02526186,\n",
       "       0.04097351, 0.03296365, 0.04775108, 0.0064695 , 0.        ,\n",
       "       0.01817622, 0.0107825 , 0.00277264, 0.00831793, 0.00338879,\n",
       "       0.13955638, 0.13955638, 0.00739372, 0.00800986, 0.02556993,\n",
       "       0.01386322, 0.0064695 , 0.02680222, 0.01170672, 0.01016636,\n",
       "       0.00616143, 0.0021565 , 0.01170672, 0.01016636, 0.01016636,\n",
       "       0.02464572, 0.00184843, 0.00893407, 0.00955022, 0.00400493,\n",
       "       0.03296365, 0.00277264, 0.01540357, 0.02556993, 0.00831793,\n",
       "       0.00154036, 0.00462107, 0.00492914, 0.00184843, 0.01386322,\n",
       "       0.02711029, 0.03419593, 0.00492914, 0.025878  , 0.01540357,\n",
       "       0.00677757, 0.0021565 , 0.01540357, 0.02064079, 0.00770179,\n",
       "       0.01016636, 0.00492914, 0.00893407, 0.01170672, 0.00800986,\n",
       "       0.02125693, 0.03573629, 0.00462107, 0.01571165, 0.00492914,\n",
       "       0.00985829, 0.00369686, 0.01201479, 0.01632779, 0.01386322,\n",
       "       0.00092421, 0.00462107, 0.01109057, 0.02094886, 0.025878  ,\n",
       "       0.01170672, 0.04189772, 0.00462107, 0.0021565 , 0.00739372,\n",
       "       0.01139864, 0.01478743, 0.00246457, 0.01109057, 0.00246457,\n",
       "       0.01355514, 0.00554529, 0.05021565, 0.07178065, 0.00985829,\n",
       "       0.02988293, 0.03666051, 0.02772643, 0.00338879, 0.021565  ,\n",
       "       0.01170672, 0.01632779, 0.01786815, 0.01016636, 0.00585336,\n",
       "       0.05576094, 0.01201479, 0.01571165, 0.00677757, 0.00554529,\n",
       "       0.01109057, 0.01355514, 0.00924214, 0.00554529, 0.01232286,\n",
       "       0.02433765, 0.01571165, 0.00369686, 0.0107825 , 0.01756007,\n",
       "       0.        , 0.02865065, 0.012939  , 0.00523722])"
      ]
     },
     "execution_count": 115,
     "metadata": {
      "tags": []
     },
     "output_type": "execute_result"
    }
   ],
   "source": [
    "avg"
   ]
  },
  {
   "cell_type": "code",
   "execution_count": null,
   "metadata": {
    "id": "hJzMG34zxu3x"
   },
   "outputs": [],
   "source": [
    "Xtr = {}\n",
    "\n",
    "Xtr['train']= X['train'] - avg\n",
    "Xtr['val'] = X['val'] - avg\n",
    "Xtr['test'] = X['test'] - avg\n"
   ]
  },
  {
   "cell_type": "code",
   "execution_count": null,
   "metadata": {
    "colab": {
     "base_uri": "https://localhost:8080/"
    },
    "id": "ttgDw7_7zBaG",
    "outputId": "62e030e5-ed7a-4a36-d041-8e8e57d8aa3c"
   },
   "outputs": [
    {
     "name": "stdout",
     "output_type": "stream",
     "text": [
      "training complete\n",
      "5905 out of 9151 correct, acc 0.645\n",
      "1277 out of 2000 correct, acc 0.638\n"
     ]
    }
   ],
   "source": [
    "svm_t = LinearSVM(C=1)\n",
    "svm_t.fit(Xtr['train'], y['train'],lr_sched=lambda t: 1/(.1*t), num_epochs=10)\n",
    "compute_acc(svm_t, Xtr['train'], y['train'])\n",
    "compute_acc(svm_t, Xtr['val'], y['val'])\n"
   ]
  },
  {
   "cell_type": "code",
   "execution_count": null,
   "metadata": {
    "colab": {
     "base_uri": "https://localhost:8080/"
    },
    "id": "536A07IYghEJ",
    "outputId": "f61a7552-c965-4908-e2cc-2fe13bfaa1c6"
   },
   "outputs": [
    {
     "name": "stdout",
     "output_type": "stream",
     "text": [
      "training complete\n",
      "5905 out of 9151 correct, acc 0.645\n",
      "1277 out of 2000 correct, acc 0.638\n"
     ]
    }
   ],
   "source": [
    "#@title Linear SVM on the airline dataset\n",
    "\n",
    "svm = LinearSVM(C=1)\n",
    "svm.fit(X['train'], y['train'],lr_sched=lambda t: 1/(.1*t), num_epochs=10)\n",
    "compute_acc(svm, X['train'], y['train'])\n",
    "compute_acc(svm, X['val'], y['val'])\n"
   ]
  },
  {
   "cell_type": "code",
   "execution_count": null,
   "metadata": {
    "colab": {
     "base_uri": "https://localhost:8080/"
    },
    "id": "d1VkbuDr5ePe",
    "outputId": "33c60e1f-0537-46cc-d09b-beb533cc0c93"
   },
   "outputs": [
    {
     "name": "stdout",
     "output_type": "stream",
     "text": [
      "(9151, 172)\n",
      "     pcost       dcost       gap    pres   dres\n",
      " 0: -2.5186e+05 -9.1226e+07  2e+08  1e+00  2e-12\n",
      " 1: -1.7090e+05 -4.2019e+07  5e+07  1e-01  2e-12\n",
      " 2: -2.1761e+05 -1.5253e+07  2e+07  4e-02  2e-12\n",
      " 3: -2.5931e+05 -3.8275e+06  4e+06  5e-03  2e-12\n",
      " 4: -2.9528e+05 -8.4772e+05  6e+05  7e-04  2e-12\n",
      " 5: -3.4230e+05 -7.3865e+05  4e+05  4e-04  2e-12\n",
      " 6: -3.8994e+05 -6.1406e+05  2e+05  2e-04  3e-12\n",
      " 7: -4.0375e+05 -5.7798e+05  2e+05  1e-04  3e-12\n",
      " 8: -4.2132e+05 -5.3188e+05  1e+05  6e-05  3e-12\n",
      " 9: -4.2943e+05 -5.1217e+05  8e+04  4e-05  3e-12\n",
      "10: -4.3752e+05 -4.9322e+05  6e+04  2e-05  3e-12\n",
      "11: -4.4402e+05 -4.7789e+05  3e+04  1e-05  3e-12\n",
      "12: -4.4870e+05 -4.6855e+05  2e+04  5e-06  3e-12\n",
      "13: -4.5180e+05 -4.6239e+05  1e+04  1e-06  3e-12\n",
      "14: -4.5418e+05 -4.5861e+05  4e+03  3e-07  4e-12\n",
      "15: -4.5501e+05 -4.5739e+05  2e+03  9e-08  4e-12\n",
      "16: -4.5539e+05 -4.5689e+05  1e+03  3e-08  4e-12\n",
      "17: -4.5581e+05 -4.5639e+05  6e+02  7e-09  4e-12\n",
      "18: -4.5592e+05 -4.5627e+05  4e+02  3e-09  3e-12\n",
      "19: -4.5600e+05 -4.5617e+05  2e+02  8e-10  4e-12\n",
      "20: -4.5605e+05 -4.5612e+05  8e+01  2e-10  4e-12\n",
      "21: -4.5607e+05 -4.5610e+05  3e+01  7e-11  4e-12\n",
      "22: -4.5608e+05 -4.5609e+05  1e+01  9e-12  5e-12\n",
      "23: -4.5608e+05 -4.5608e+05  4e+00  9e-12  4e-12\n",
      "24: -4.5608e+05 -4.5608e+05  1e+00  3e-12  5e-12\n",
      "25: -4.5608e+05 -4.5608e+05  6e-01  4e-12  4e-12\n",
      "26: -4.5608e+05 -4.5608e+05  3e-01  3e-12  4e-12\n",
      "Optimal solution found.\n",
      "SV number:  6940\n",
      "5755 out of 9151 correct, acc 0.629\n",
      "1260 out of 2000 correct, acc 0.630\n"
     ]
    }
   ],
   "source": [
    "#@title Kernel SVM with linear kernel on the airline dataset (optional)\n",
    "#@markdown This could take a while to run.\n",
    "\n",
    "print(X['train'].shape)\n",
    "\n",
    "svm = KernelSVM(Kernel.linear(), C=100)\n",
    "svm.fit(X['train'].astype(float), y['train'].astype(float))\n",
    "compute_acc(svm, X['train'], y['train'])\n",
    "compute_acc(svm, X['val'], y['val'])"
   ]
  },
  {
   "cell_type": "code",
   "execution_count": null,
   "metadata": {
    "colab": {
     "base_uri": "https://localhost:8080/"
    },
    "id": "k2u8o5Y5HAr6",
    "outputId": "3fc364a6-dc07-48a2-c33c-b1726da559ab"
   },
   "outputs": [
    {
     "name": "stdout",
     "output_type": "stream",
     "text": [
      "(9151, 172)\n",
      "     pcost       dcost       gap    pres   dres\n",
      " 0:  1.1160e+04 -5.5004e+05  9e+05  4e-01  7e-14\n",
      " 1:  5.3742e+03 -1.0947e+05  1e+05  2e-02  9e-14\n",
      " 2: -7.0880e+03 -4.2652e+04  4e+04  4e-03  1e-13\n",
      " 3: -1.1657e+04 -2.2789e+04  1e+04  7e-04  7e-14\n",
      " 4: -1.2808e+04 -1.4574e+04  2e+03  6e-05  1e-13\n",
      " 5: -1.2924e+04 -1.3270e+04  3e+02  6e-06  1e-13\n",
      " 6: -1.2943e+04 -1.2980e+04  4e+01  3e-07  2e-13\n",
      " 7: -1.2946e+04 -1.2949e+04  3e+00  2e-08  1e-13\n",
      " 8: -1.2946e+04 -1.2946e+04  6e-02  3e-10  2e-13\n",
      " 9: -1.2946e+04 -1.2946e+04  1e-03  5e-12  3e-13\n",
      "Optimal solution found.\n",
      "SV number:  8782\n",
      "8644 out of 9151 correct, acc 0.945\n",
      "1499 out of 2000 correct, acc 0.750\n"
     ]
    }
   ],
   "source": [
    "#@title Kernel SVM with RBF kernel on the airline dataset (optional)\n",
    "#@markdown This could take a while to run.\n",
    "\n",
    "print(X['train'].shape)\n",
    "\n",
    "svm = KernelSVM(Kernel.gaussian(sigma=1), C=10)\n",
    "svm.fit(X['train'].astype(float), y['train'].astype(float))\n",
    "compute_acc(svm, X['train'], y['train'])\n",
    "compute_acc(svm, X['val'], y['val'])"
   ]
  },
  {
   "cell_type": "markdown",
   "metadata": {
    "id": "3e9OUfEQghEO"
   },
   "source": [
    "- Try to come up with a better text feature representation. We threw out all the emojis. >< what a waste\n",
    "- Play around with different parameter settings and upload your test set predictions to kaggle.\n",
    "- Given the high feature dimensionality of our primitive text processing, we do not recommend using kernel SVM here. It could take a long time to train. If you reduce the feature dimensionality, then it's a different story"
   ]
  },
  {
   "cell_type": "markdown",
   "metadata": {
    "id": "coIdwvDRoSLY"
   },
   "source": [
    "Use a method similar to embedding. Find the difference between word feature vectors."
   ]
  },
  {
   "cell_type": "code",
   "execution_count": null,
   "metadata": {
    "colab": {
     "base_uri": "https://localhost:8080/",
     "height": 17
    },
    "id": "QxC9ZhkIghER",
    "outputId": "ae4d6814-5319-45bf-b023-cf33a0826197"
   },
   "outputs": [
    {
     "data": {
      "application/javascript": [
       "\n",
       "    async function download(id, filename, size) {\n",
       "      if (!google.colab.kernel.accessAllowed) {\n",
       "        return;\n",
       "      }\n",
       "      const div = document.createElement('div');\n",
       "      const label = document.createElement('label');\n",
       "      label.textContent = `Downloading \"${filename}\": `;\n",
       "      div.appendChild(label);\n",
       "      const progress = document.createElement('progress');\n",
       "      progress.max = size;\n",
       "      div.appendChild(progress);\n",
       "      document.body.appendChild(div);\n",
       "\n",
       "      const buffers = [];\n",
       "      let downloaded = 0;\n",
       "\n",
       "      const channel = await google.colab.kernel.comms.open(id);\n",
       "      // Send a message to notify the kernel that we're ready.\n",
       "      channel.send({})\n",
       "\n",
       "      for await (const message of channel.messages) {\n",
       "        // Send a message to notify the kernel that we're ready.\n",
       "        channel.send({})\n",
       "        if (message.buffers) {\n",
       "          for (const buffer of message.buffers) {\n",
       "            buffers.push(buffer);\n",
       "            downloaded += buffer.byteLength;\n",
       "            progress.value = downloaded;\n",
       "          }\n",
       "        }\n",
       "      }\n",
       "      const blob = new Blob(buffers, {type: 'application/binary'});\n",
       "      const a = document.createElement('a');\n",
       "      a.href = window.URL.createObjectURL(blob);\n",
       "      a.download = filename;\n",
       "      div.appendChild(a);\n",
       "      a.click();\n",
       "      div.remove();\n",
       "    }\n",
       "  "
      ],
      "text/plain": [
       "<IPython.core.display.Javascript object>"
      ]
     },
     "metadata": {
      "tags": []
     },
     "output_type": "display_data"
    },
    {
     "data": {
      "application/javascript": [
       "download(\"download_a756113e-ce80-4a7c-bb98-ac443d99fed3\", \"tweet_test.csv\", 35772)"
      ],
      "text/plain": [
       "<IPython.core.display.Javascript object>"
      ]
     },
     "metadata": {
      "tags": []
     },
     "output_type": "display_data"
    }
   ],
   "source": [
    "#@title Generate test output\n",
    "#@markdown Run this cell to generate the csv containing your test outputs for\n",
    "#@markdown Kaggle.\n",
    "#@markdown Contest link: https://www.kaggle.com/c/ttic31020hw3\n",
    "\n",
    "test_pred = svm.predict(X['test'])\n",
    "create_submission_file('tweet_test.csv', test_pred)\n",
    "from google.colab import files\n",
    "files.download('tweet_test.csv') "
   ]
  }
 ],
 "metadata": {
  "colab": {
   "collapsed_sections": [],
   "name": "Copy of ps3_student_copy.ipynb",
   "provenance": []
  },
  "kernelspec": {
   "display_name": "Python 3",
   "language": "python",
   "name": "python3"
  },
  "language_info": {
   "codemirror_mode": {
    "name": "ipython",
    "version": 3
   },
   "file_extension": ".py",
   "mimetype": "text/x-python",
   "name": "python",
   "nbconvert_exporter": "python",
   "pygments_lexer": "ipython3",
   "version": "3.7.6"
  }
 },
 "nbformat": 4,
 "nbformat_minor": 1
}
